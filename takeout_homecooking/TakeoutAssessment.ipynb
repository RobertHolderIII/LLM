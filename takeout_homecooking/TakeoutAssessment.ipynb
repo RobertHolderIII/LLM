{
 "cells": [
  {
   "cell_type": "markdown",
   "id": "6613d551-2164-4824-a4de-1c4d021b61a9",
   "metadata": {},
   "source": [
    "# Natual language approach to assess takeout habits"
   ]
  },
  {
   "cell_type": "markdown",
   "id": "226eaba9-16a9-432c-9ad3-67bb54c9a053",
   "metadata": {},
   "source": [
    "### Setup"
   ]
  },
  {
   "cell_type": "code",
   "execution_count": 1,
   "id": "23f35a12",
   "metadata": {},
   "outputs": [],
   "source": [
    "# Import packages\n",
    "import os\n",
    "import json\n",
    "import datetime\n",
    "from datetime import timedelta, datetime\n",
    "import pandas as pd\n",
    "from dotenv import load_dotenv\n",
    "\n",
    "from agno.agent import Agent\n",
    "from agno.models.groq import Groq\n",
    "from agno.tools import Toolkit"
   ]
  },
  {
   "cell_type": "code",
   "execution_count": 2,
   "id": "40534034-a556-424b-8f5b-81392939369e",
   "metadata": {},
   "outputs": [],
   "source": [
    "load_dotenv('../.env')\n",
    "api_key = os.getenv('GROQ_API_KEY')"
   ]
  },
  {
   "cell_type": "markdown",
   "id": "cee9fc13-e27d-4e93-95df-57c87f5a8df4",
   "metadata": {},
   "source": [
    "We will configure multiple LLMs using [Agno Agents](https://github.com/agno-agi/agno), each requiring a Groq API Key for access which you can create [here](https://console.groq.com/keys). These models include different versions of Meta's LLaMA 3 and other specialized models like Google's Gemma 2 and Mixtral. Each model will be used by different agents to generate diverse outputs for the MLB game recap."
   ]
  },
  {
   "cell_type": "code",
   "execution_count": 3,
   "id": "1cd20615-fe84-4b35-bb39-2e4d7f388b35",
   "metadata": {},
   "outputs": [],
   "source": [
    "llm_model = Groq(id=\"llama-3.3-70b-versatile\", api_key=api_key)"
   ]
  },
  {
   "cell_type": "code",
   "execution_count": 4,
   "id": "a940e20a-f6e8-4666-83eb-9648019a7265",
   "metadata": {},
   "outputs": [
    {
     "data": {
      "text/html": [
       "<div>\n",
       "<style scoped>\n",
       "    .dataframe tbody tr th:only-of-type {\n",
       "        vertical-align: middle;\n",
       "    }\n",
       "\n",
       "    .dataframe tbody tr th {\n",
       "        vertical-align: top;\n",
       "    }\n",
       "\n",
       "    .dataframe thead th {\n",
       "        text-align: right;\n",
       "    }\n",
       "</style>\n",
       "<table border=\"1\" class=\"dataframe\">\n",
       "  <thead>\n",
       "    <tr style=\"text-align: right;\">\n",
       "      <th></th>\n",
       "      <th>restaurant</th>\n",
       "      <th>price</th>\n",
       "      <th>date</th>\n",
       "    </tr>\n",
       "  </thead>\n",
       "  <tbody>\n",
       "    <tr>\n",
       "      <th>0</th>\n",
       "      <td>Little Caesars Pizza</td>\n",
       "      <td>21.24</td>\n",
       "      <td>2025-01-18</td>\n",
       "    </tr>\n",
       "    <tr>\n",
       "      <th>1</th>\n",
       "      <td>Five Guys</td>\n",
       "      <td>32.93</td>\n",
       "      <td>2025-01-05</td>\n",
       "    </tr>\n",
       "    <tr>\n",
       "      <th>2</th>\n",
       "      <td>Maiwand Kabob</td>\n",
       "      <td>53.43</td>\n",
       "      <td>2024-12-29</td>\n",
       "    </tr>\n",
       "    <tr>\n",
       "      <th>3</th>\n",
       "      <td>Chipotle</td>\n",
       "      <td>51.06</td>\n",
       "      <td>2024-12-27</td>\n",
       "    </tr>\n",
       "    <tr>\n",
       "      <th>4</th>\n",
       "      <td>Five Guys</td>\n",
       "      <td>32.93</td>\n",
       "      <td>2024-12-21</td>\n",
       "    </tr>\n",
       "    <tr>\n",
       "      <th>...</th>\n",
       "      <td>...</td>\n",
       "      <td>...</td>\n",
       "      <td>...</td>\n",
       "    </tr>\n",
       "    <tr>\n",
       "      <th>56</th>\n",
       "      <td>Maiwand Kabob</td>\n",
       "      <td>60.63</td>\n",
       "      <td>2024-02-06</td>\n",
       "    </tr>\n",
       "    <tr>\n",
       "      <th>57</th>\n",
       "      <td>An Loi</td>\n",
       "      <td>47.42</td>\n",
       "      <td>2024-02-01</td>\n",
       "    </tr>\n",
       "    <tr>\n",
       "      <th>58</th>\n",
       "      <td>Soul Boat</td>\n",
       "      <td>34.68</td>\n",
       "      <td>2024-01-22</td>\n",
       "    </tr>\n",
       "    <tr>\n",
       "      <th>59</th>\n",
       "      <td>Bonchon</td>\n",
       "      <td>25.83</td>\n",
       "      <td>2024-01-12</td>\n",
       "    </tr>\n",
       "    <tr>\n",
       "      <th>60</th>\n",
       "      <td>Bon Fresco Sandwich Bakery</td>\n",
       "      <td>40.81</td>\n",
       "      <td>2024-01-05</td>\n",
       "    </tr>\n",
       "  </tbody>\n",
       "</table>\n",
       "<p>61 rows × 3 columns</p>\n",
       "</div>"
      ],
      "text/plain": [
       "                    restaurant  price       date\n",
       "0         Little Caesars Pizza  21.24 2025-01-18\n",
       "1                    Five Guys  32.93 2025-01-05\n",
       "2                Maiwand Kabob  53.43 2024-12-29\n",
       "3                     Chipotle  51.06 2024-12-27\n",
       "4                    Five Guys  32.93 2024-12-21\n",
       "..                         ...    ...        ...\n",
       "56               Maiwand Kabob  60.63 2024-02-06\n",
       "57                      An Loi  47.42 2024-02-01\n",
       "58                   Soul Boat  34.68 2024-01-22\n",
       "59                     Bonchon  25.83 2024-01-12\n",
       "60  Bon Fresco Sandwich Bakery  40.81 2024-01-05\n",
       "\n",
       "[61 rows x 3 columns]"
      ]
     },
     "execution_count": 4,
     "metadata": {},
     "output_type": "execute_result"
    }
   ],
   "source": [
    "import pandas as pd\n",
    "grubhub = pd.read_csv('grubhub.csv', \n",
    "                      names=['na','restaurant','price','date'])\n",
    "grubhub.drop('na',axis=1,inplace=True)\n",
    "grubhub['date'] = pd.to_datetime(grubhub['date'])\n",
    "grubhub"
   ]
  },
  {
   "cell_type": "markdown",
   "id": "cfe24034-9aa0-4f7d-90aa-d310dd5e685e",
   "metadata": {},
   "source": [
    "### Define Tools"
   ]
  },
  {
   "cell_type": "code",
   "execution_count": 5,
   "id": "13ebd577-fcbb-4200-8edd-c93e441318cc",
   "metadata": {},
   "outputs": [],
   "source": [
    "def helper(restaurant_name: str, start_date: str, end_date: str) -> pd.DataFrame:\n",
    "    name_match = True if not restaurant_name else grubhub['restaurant'] == restaurant_name\n",
    "    date_match = (grubhub['date'] >= start_date) & (grubhub['date'] <= end_date)\n",
    "    matches = grubhub[name_match & date_match]\n",
    "\n",
    "    return matches"
   ]
  },
  {
   "cell_type": "code",
   "execution_count": 6,
   "id": "1f348d37-205e-44f8-80f3-a42076fad882",
   "metadata": {},
   "outputs": [
    {
     "name": "stdout",
     "output_type": "stream",
     "text": [
      "{\"frequency\": 2}\n",
      "{\"frequency\": 6}\n"
     ]
    }
   ],
   "source": [
    "def get_frequency(restaurant_name: str = '', start_date: str = '2000-01-01', end_date: str = '2026-01-01') -> str:\n",
    "    \"\"\"Gets the number of times a restaurant appears in the data\n",
    "    on or inbetween the given dates\n",
    "    \"\"\"\n",
    "    matches = helper(restaurant_name, start_date, end_date)\n",
    "    retval= {\n",
    "        'frequency': matches.shape[0]\n",
    "    }\n",
    "    return json.dumps(retval)\n",
    "\n",
    "print(get_frequency(start_date='2024-02-01', end_date='2024-02-28', restaurant_name='An Loi'))\n",
    "print(get_frequency(start_date='2024-02-01', end_date='2024-02-28'))\n"
   ]
  },
  {
   "cell_type": "code",
   "execution_count": 7,
   "id": "a4f8768f-5ab4-4f6e-908a-7429c4f62af4",
   "metadata": {},
   "outputs": [
    {
     "name": "stdout",
     "output_type": "stream",
     "text": [
      "{\"total_cost\": 74.07}\n"
     ]
    }
   ],
   "source": [
    "def get_cost(restaurant_name: str = '', start_date: str = '2000-01-01', end_date: str = '2026-01-01') -> str:\n",
    "    \"\"\"Get the total cost of meals from a restaurant within a date range\n",
    "    \"\"\"\n",
    "    matches = helper(restaurant_name, start_date, end_date)\n",
    "    \n",
    "    retval = {\n",
    "        'total_cost': matches['price'].sum()\n",
    "    }\n",
    "    return json.dumps(retval)\n",
    "\n",
    "print(get_cost(start_date='2024-02-01', end_date='2024-02-28', restaurant_name='An Loi'))\n"
   ]
  },
  {
   "cell_type": "markdown",
   "id": "5410103f-5afa-4b33-a834-01212d7dc0e5",
   "metadata": {},
   "source": [
    "### Define Agents"
   ]
  },
  {
   "cell_type": "code",
   "execution_count": 8,
   "id": "0941d5ec-f787-4f58-abbc-e3a16d00af6d",
   "metadata": {},
   "outputs": [],
   "source": [
    "takeout_q = Agent(\n",
    "    model=llm_model,\n",
    "    description=\"An agent that answers questions about takeout history\",\n",
    "    instructions = [\n",
    "        f\"Parse the restaurant name (use '' if user does not specify), start date, and end date from the user question.\",\n",
    "        \"Use the tools to answer questions about my takeout habits\",    \n",
    "    ],\n",
    "    tools=[get_frequency, get_cost],\n",
    "    show_tool_calls=True\n",
    ")"
   ]
  },
  {
   "cell_type": "code",
   "execution_count": 9,
   "id": "d56d9ff7-e337-40c4-b2c1-e2f69940ce41",
   "metadata": {
    "scrolled": true
   },
   "outputs": [],
   "source": [
    "user_prompt = {\n",
    "    0: 'how many times did I eat at An Loi during the month of August 2024?',\n",
    "    1: 'how many times did I order takeout during the month of August 2024?',\n",
    "    2: 'how much did I spend at An Loi during the month of June 2024?',\n",
    "    3: 'how much did I spend on takeout in July of 2024?',\n",
    "    4: 'did I spend more in takeout in October or November of 2024?',\n",
    "    5: 'how much did I spend on takeout in January 2024 and February 2024?',\n",
    "    6: 'how much did I spend on takeout in January 2024?'\n",
    "\n",
    "}"
   ]
  },
  {
   "cell_type": "code",
   "execution_count": 10,
   "id": "88d12e9d-4344-4a27-ba6f-0b55872fec7c",
   "metadata": {},
   "outputs": [
    {
     "name": "stdout",
     "output_type": "stream",
     "text": [
      "You spent a total of $328.90 on takeout in January and February 2024.\n",
      "CPU times: user 81.9 ms, sys: 22.8 ms, total: 105 ms\n",
      "Wall time: 1.28 s\n"
     ]
    }
   ],
   "source": [
    "%%time\n",
    "result = takeout_q.run(user_prompt[5], stream=False)\n",
    "print(result.content)"
   ]
  },
  {
   "cell_type": "code",
   "execution_count": 11,
   "id": "f770b376-8b1b-4b2e-8018-807c8df61acd",
   "metadata": {},
   "outputs": [
    {
     "data": {
      "text/plain": [
       "'{\"total_cost\": 328.90000000000003}'"
      ]
     },
     "execution_count": 11,
     "metadata": {},
     "output_type": "execute_result"
    }
   ],
   "source": [
    "get_cost(start_date='2024-01-01', end_date='2024-01-31')\n",
    "get_cost(start_date='2024-01-01', end_date='2024-02-28')"
   ]
  },
  {
   "cell_type": "markdown",
   "id": "5e10139a-5b74-45d1-8442-5c36e22274fa",
   "metadata": {},
   "source": [
    "## Try the same thing with Toolkit interface"
   ]
  },
  {
   "cell_type": "code",
   "execution_count": 12,
   "id": "f332441e-9ee5-4811-b94c-c36509c48543",
   "metadata": {},
   "outputs": [],
   "source": [
    "class TakeoutTools(Toolkit):\n",
    "    def __init__(self):\n",
    "        super().__init__(name=\"takeout_tools\")\n",
    "        setattr(self.__class__, 'get_frequency', classmethod(get_frequency))\n",
    "        setattr(self.__class__, 'get_cost', classmethod(get_cost))\n",
    "        self.register(self.get_frequency)\n",
    "        self.register(self.get_cost)\n",
    "    "
   ]
  },
  {
   "cell_type": "code",
   "execution_count": 13,
   "id": "1974c8e2-50ce-4ad0-843a-ebc2552f8e70",
   "metadata": {},
   "outputs": [],
   "source": [
    "toolkit_takeout_q = Agent(\n",
    "    model=llm_model,\n",
    "    description=\"An agent that answers questions about takeout history\",\n",
    "    instructions = [\n",
    "        f\"Parse the restaurant name (use '' if user does not specify), start date as yyyy-MM-dd, and end date as yyyy-MM-dd from the user question.\",\n",
    "        \"Use the available tools to answer questions about takeout history\",    \n",
    "    ],\n",
    "    tools=[TakeoutTools()],\n",
    "    show_tool_calls=True,\n",
    "    markdown=False\n",
    ")"
   ]
  },
  {
   "cell_type": "code",
   "execution_count": 14,
   "id": "5dca3445-5724-438d-96d5-d27312f03b97",
   "metadata": {},
   "outputs": [
    {
     "name": "stderr",
     "output_type": "stream",
     "text": [
      "Exception ignored in: <function SyncHttpxClientWrapper.__del__ at 0x11ca28d60>\n",
      "Traceback (most recent call last):\n",
      "  File \"/Users/robertholder/Documents/installs/miniconda3/envs/agnoenv/lib/python3.11/site-packages/groq/_base_client.py\", line 770, in __del__\n",
      "    if self.is_closed:\n",
      "       ^^^^^^^^^^^^^^\n",
      "  File \"/Users/robertholder/Documents/installs/miniconda3/envs/agnoenv/lib/python3.11/site-packages/httpx/_client.py\", line 228, in is_closed\n",
      "    return self._state == ClientState.CLOSED\n",
      "           ^^^^^^^^^^^\n",
      "AttributeError: 'SyncHttpxClientWrapper' object has no attribute '_state'\n",
      "Exception ignored in: <function SyncHttpxClientWrapper.__del__ at 0x11ca28d60>\n",
      "Traceback (most recent call last):\n",
      "  File \"/Users/robertholder/Documents/installs/miniconda3/envs/agnoenv/lib/python3.11/site-packages/groq/_base_client.py\", line 770, in __del__\n",
      "    if self.is_closed:\n",
      "       ^^^^^^^^^^^^^^\n",
      "  File \"/Users/robertholder/Documents/installs/miniconda3/envs/agnoenv/lib/python3.11/site-packages/httpx/_client.py\", line 228, in is_closed\n",
      "    return self._state == ClientState.CLOSED\n",
      "           ^^^^^^^^^^^\n",
      "AttributeError: 'SyncHttpxClientWrapper' object has no attribute '_state'\n"
     ]
    },
    {
     "name": "stdout",
     "output_type": "stream",
     "text": [
      "You ate out 6 times during the month of February 2024.\n",
      "CPU times: user 61.2 ms, sys: 7.99 ms, total: 69.2 ms\n",
      "Wall time: 1.07 s\n"
     ]
    }
   ],
   "source": [
    "%%time\n",
    "user_prompt = 'how many times did I eat at An Loi during the month of February 2024?'\n",
    "user_prompt = 'how many times did I eat out during the month of February 2024?'\n",
    "result = toolkit_takeout_q.run(user_prompt, stream=False)\n",
    "print(result.content)"
   ]
  },
  {
   "cell_type": "code",
   "execution_count": 15,
   "id": "ed01bdaf-bbad-4577-ad2b-d3132d6d8d85",
   "metadata": {},
   "outputs": [
    {
     "data": {
      "text/plain": [
       "RunResponse(content='You ate out 6 times during the month of February 2024.', content_type='str', thinking=None, reasoning_content=None, event='RunResponse', messages=[Message(role='system', content=\"An agent that answers questions about takeout history\\n<instructions>\\n- Parse the restaurant name (use '' if user does not specify), start date as yyyy-MM-dd, and end date as yyyy-MM-dd from the user question.\\n- Use the available tools to answer questions about takeout history\\n</instructions>\", name=None, tool_call_id=None, tool_calls=None, audio=None, images=None, videos=None, files=None, audio_output=None, image_output=None, thinking=None, redacted_thinking=None, provider_data=None, citations=None, reasoning_content=None, tool_name=None, tool_args=None, tool_call_error=None, stop_after_tool_call=False, add_to_agent_memory=True, from_history=False, metrics=MessageMetrics(input_tokens=0, output_tokens=0, total_tokens=0, audio_tokens=0, input_audio_tokens=0, output_audio_tokens=0, cached_tokens=0, reasoning_tokens=0, prompt_tokens=0, completion_tokens=0, prompt_tokens_details=None, completion_tokens_details=None, additional_metrics=None, time=None, time_to_first_token=None, timer=None), references=None, created_at=1746236827), Message(role='user', content='how many times did I eat out during the month of February 2024?', name=None, tool_call_id=None, tool_calls=None, audio=None, images=None, videos=None, files=None, audio_output=None, image_output=None, thinking=None, redacted_thinking=None, provider_data=None, citations=None, reasoning_content=None, tool_name=None, tool_args=None, tool_call_error=None, stop_after_tool_call=False, add_to_agent_memory=True, from_history=False, metrics=MessageMetrics(input_tokens=0, output_tokens=0, total_tokens=0, audio_tokens=0, input_audio_tokens=0, output_audio_tokens=0, cached_tokens=0, reasoning_tokens=0, prompt_tokens=0, completion_tokens=0, prompt_tokens_details=None, completion_tokens_details=None, additional_metrics=None, time=None, time_to_first_token=None, timer=None), references=None, created_at=1746236827), Message(role='assistant', content=None, name=None, tool_call_id=None, tool_calls=[{'id': 'call_qrpz', 'function': {'arguments': '{\"start_date\": \"2024-02-01\", \"end_date\": \"2024-02-29\", \"restaurant_name\": \"\"}', 'name': 'get_frequency'}, 'type': 'function'}], audio=None, images=None, videos=None, files=None, audio_output=None, image_output=None, thinking=None, redacted_thinking=None, provider_data=None, citations=None, reasoning_content=None, tool_name=None, tool_args=None, tool_call_error=None, stop_after_tool_call=False, add_to_agent_memory=True, from_history=False, metrics=MessageMetrics(input_tokens=409, output_tokens=37, total_tokens=446, audio_tokens=0, input_audio_tokens=0, output_audio_tokens=0, cached_tokens=0, reasoning_tokens=0, prompt_tokens=0, completion_tokens=0, prompt_tokens_details=None, completion_tokens_details=None, additional_metrics={'completion_time': 0.134545455, 'prompt_time': 0.032963922, 'queue_time': 0.200360514, 'total_time': 0.167509377}, time=0.42932116700103506, time_to_first_token=None, timer=<agno.utils.timer.Timer object at 0x11e923590>), references=None, created_at=1746236827), Message(role='tool', content='{\"frequency\": 6}', name=None, tool_call_id='call_qrpz', tool_calls=None, audio=None, images=None, videos=None, files=None, audio_output=None, image_output=None, thinking=None, redacted_thinking=None, provider_data=None, citations=None, reasoning_content=None, tool_name='get_frequency', tool_args={'start_date': '2024-02-01', 'end_date': '2024-02-29', 'restaurant_name': ''}, tool_call_error=False, stop_after_tool_call=False, add_to_agent_memory=True, from_history=False, metrics=MessageMetrics(input_tokens=0, output_tokens=0, total_tokens=0, audio_tokens=0, input_audio_tokens=0, output_audio_tokens=0, cached_tokens=0, reasoning_tokens=0, prompt_tokens=0, completion_tokens=0, prompt_tokens_details=None, completion_tokens_details=None, additional_metrics=None, time=0.002257667016237974, time_to_first_token=None, timer=None), references=None, created_at=1746236827), Message(role='assistant', content='You ate out 6 times during the month of February 2024.', name=None, tool_call_id=None, tool_calls=None, audio=None, images=None, videos=None, files=None, audio_output=None, image_output=None, thinking=None, redacted_thinking=None, provider_data=None, citations=None, reasoning_content=None, tool_name=None, tool_args=None, tool_call_error=None, stop_after_tool_call=False, add_to_agent_memory=True, from_history=False, metrics=MessageMetrics(input_tokens=462, output_tokens=16, total_tokens=478, audio_tokens=0, input_audio_tokens=0, output_audio_tokens=0, cached_tokens=0, reasoning_tokens=0, prompt_tokens=0, completion_tokens=0, prompt_tokens_details=None, completion_tokens_details=None, additional_metrics={'completion_time': 0.058181818, 'prompt_time': 0.029155414, 'queue_time': 0.20043048400000002, 'total_time': 0.087337232}, time=0.41481795796426013, time_to_first_token=None, timer=<agno.utils.timer.Timer object at 0x11caa1950>), references=None, created_at=1746236827)], metrics={'input_tokens': 462, 'output_tokens': 16, 'total_tokens': 478, 'audio_tokens': 0, 'input_audio_tokens': 0, 'output_audio_tokens': 0, 'cached_tokens': 0, 'reasoning_tokens': 0, 'prompt_tokens': 0, 'completion_tokens': 0, 'additional_metrics': {'completion_time': 0.058181818, 'prompt_time': 0.029155414, 'queue_time': 0.20043048400000002, 'total_time': 0.087337232}, 'time': 0.41481795796426013}, model='llama-3.3-70b-versatile', run_id='d2c473d5-f029-42e8-86dd-e212cbc6ce02', agent_id='90a01435-2689-4235-ab4d-87c65121e4c0', session_id='3c2cf436-d6ad-4e9e-b7f8-d452ed30d30d', workflow_id=None, tools=[{'content': '{\"frequency\": 6}', 'tool_call_id': 'call_qrpz', 'tool_name': 'get_frequency', 'tool_args': {'start_date': '2024-02-01', 'end_date': '2024-02-29', 'restaurant_name': ''}, 'tool_call_error': False, 'metrics': MessageMetrics(input_tokens=0, output_tokens=0, total_tokens=0, audio_tokens=0, input_audio_tokens=0, output_audio_tokens=0, cached_tokens=0, reasoning_tokens=0, prompt_tokens=0, completion_tokens=0, prompt_tokens_details=None, completion_tokens_details=None, additional_metrics=None, time=0.002257667016237974, time_to_first_token=None, timer=None), 'created_at': 1746236827}], formatted_tool_calls=['get_frequency(start_date=2024-02-01, end_date=2024-02-29, restaurant_name=)'], images=None, videos=None, audio=None, response_audio=None, citations=None, extra_data=None, created_at=1746236825)"
      ]
     },
     "execution_count": 15,
     "metadata": {},
     "output_type": "execute_result"
    }
   ],
   "source": [
    "result\n"
   ]
  },
  {
   "cell_type": "code",
   "execution_count": 16,
   "id": "fe725ae5-5c2a-4097-ad2f-c26370448d2c",
   "metadata": {},
   "outputs": [
    {
     "data": {
      "text/plain": [
       "'{\"frequency\": 6}'"
      ]
     },
     "execution_count": 16,
     "metadata": {},
     "output_type": "execute_result"
    }
   ],
   "source": [
    "get_frequency(start_date='2024-02-01', end_date='2024-02-29')"
   ]
  }
 ],
 "metadata": {
  "kernelspec": {
   "display_name": "Python 3 (ipykernel)",
   "language": "python",
   "name": "python3"
  },
  "language_info": {
   "codemirror_mode": {
    "name": "ipython",
    "version": 3
   },
   "file_extension": ".py",
   "mimetype": "text/x-python",
   "name": "python",
   "nbconvert_exporter": "python",
   "pygments_lexer": "ipython3",
   "version": "3.11.11"
  }
 },
 "nbformat": 4,
 "nbformat_minor": 5
}
