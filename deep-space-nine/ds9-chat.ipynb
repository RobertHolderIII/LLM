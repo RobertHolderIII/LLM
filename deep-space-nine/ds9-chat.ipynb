{
 "cells": [
  {
   "cell_type": "markdown",
   "id": "df3404f1-bbd2-4b13-9bf9-d209bf2e7c02",
   "metadata": {},
   "source": [
    "## Set up environment"
   ]
  },
  {
   "cell_type": "code",
   "execution_count": 1,
   "id": "37ac3795-0821-42d3-b94f-5ba676aa31f4",
   "metadata": {},
   "outputs": [
    {
     "data": {
      "text/plain": [
       "True"
      ]
     },
     "execution_count": 1,
     "metadata": {},
     "output_type": "execute_result"
    }
   ],
   "source": [
    "from dotenv import load_dotenv\n",
    "load_dotenv('../.env')"
   ]
  },
  {
   "cell_type": "markdown",
   "id": "fbf8095b-a84c-47c4-937d-1554ac54f44d",
   "metadata": {},
   "source": [
    "## Load reviews"
   ]
  },
  {
   "cell_type": "code",
   "execution_count": 2,
   "id": "0e556481-33ba-4de0-aa27-0d3bfb30b53e",
   "metadata": {},
   "outputs": [
    {
     "data": {
      "text/html": [
       "<div>\n",
       "<style scoped>\n",
       "    .dataframe tbody tr th:only-of-type {\n",
       "        vertical-align: middle;\n",
       "    }\n",
       "\n",
       "    .dataframe tbody tr th {\n",
       "        vertical-align: top;\n",
       "    }\n",
       "\n",
       "    .dataframe thead th {\n",
       "        text-align: right;\n",
       "    }\n",
       "</style>\n",
       "<table border=\"1\" class=\"dataframe\">\n",
       "  <thead>\n",
       "    <tr style=\"text-align: right;\">\n",
       "      <th></th>\n",
       "      <th>url</th>\n",
       "      <th>review</th>\n",
       "      <th>comments</th>\n",
       "    </tr>\n",
       "  </thead>\n",
       "  <tbody>\n",
       "    <tr>\n",
       "      <th>0</th>\n",
       "      <td>https://www.jammersreviews.com/st-ds9/s1/emiss...</td>\n",
       "      <td>\"Emissary\" | Star Trek: DS9 | Jammer's Reviews...</td>\n",
       "      <td></td>\n",
       "    </tr>\n",
       "    <tr>\n",
       "      <th>1</th>\n",
       "      <td>https://www.jammersreviews.com/st-ds9/s1/prolo...</td>\n",
       "      <td>\"Past Prologue\" | Star Trek: DS9 | Jammer's Re...</td>\n",
       "      <td></td>\n",
       "    </tr>\n",
       "    <tr>\n",
       "      <th>2</th>\n",
       "      <td>https://www.jammersreviews.com/st-ds9/s1/alone...</td>\n",
       "      <td>\"A Man Alone\" | Star Trek: DS9 | Jammer's Revi...</td>\n",
       "      <td></td>\n",
       "    </tr>\n",
       "    <tr>\n",
       "      <th>3</th>\n",
       "      <td>https://www.jammersreviews.com/st-ds9/s1/babel...</td>\n",
       "      <td>\"Babel\" | Star Trek: DS9 | Jammer's Reviews\\n\\...</td>\n",
       "      <td></td>\n",
       "    </tr>\n",
       "    <tr>\n",
       "      <th>4</th>\n",
       "      <td>https://www.jammersreviews.com/st-ds9/s1/capti...</td>\n",
       "      <td>\"Captive Pursuit\" | Star Trek: DS9 | Jammer's ...</td>\n",
       "      <td></td>\n",
       "    </tr>\n",
       "    <tr>\n",
       "      <th>...</th>\n",
       "      <td>...</td>\n",
       "      <td>...</td>\n",
       "      <td>...</td>\n",
       "    </tr>\n",
       "    <tr>\n",
       "      <th>171</th>\n",
       "      <td>https://www.jammersreviews.com/st-ds9/s7/tacki...</td>\n",
       "      <td>\"Tacking into the Wind\" | Star Trek: DS9 | Jam...</td>\n",
       "      <td></td>\n",
       "    </tr>\n",
       "    <tr>\n",
       "      <th>172</th>\n",
       "      <td>https://www.jammersreviews.com/st-ds9/s7/extre...</td>\n",
       "      <td>\"Extreme Measures\" | Star Trek: DS9 | Jammer's...</td>\n",
       "      <td></td>\n",
       "    </tr>\n",
       "    <tr>\n",
       "      <th>173</th>\n",
       "      <td>https://www.jammersreviews.com/st-ds9/s7/dogs.php</td>\n",
       "      <td>\"The Dogs of War\" | Star Trek: DS9 | Jammer's ...</td>\n",
       "      <td></td>\n",
       "    </tr>\n",
       "    <tr>\n",
       "      <th>174</th>\n",
       "      <td>https://www.jammersreviews.com/st-ds9/s7/leave...</td>\n",
       "      <td>\"What You Leave Behind\" | Star Trek: DS9 | Jam...</td>\n",
       "      <td></td>\n",
       "    </tr>\n",
       "    <tr>\n",
       "      <th>175</th>\n",
       "      <td>https://www.jammersreviews.com/st-ds9/s7/recap...</td>\n",
       "      <td>Star Trek: DS9 | Seventh Season Recap | Jammer...</td>\n",
       "      <td></td>\n",
       "    </tr>\n",
       "  </tbody>\n",
       "</table>\n",
       "<p>176 rows × 3 columns</p>\n",
       "</div>"
      ],
      "text/plain": [
       "                                                   url  \\\n",
       "0    https://www.jammersreviews.com/st-ds9/s1/emiss...   \n",
       "1    https://www.jammersreviews.com/st-ds9/s1/prolo...   \n",
       "2    https://www.jammersreviews.com/st-ds9/s1/alone...   \n",
       "3    https://www.jammersreviews.com/st-ds9/s1/babel...   \n",
       "4    https://www.jammersreviews.com/st-ds9/s1/capti...   \n",
       "..                                                 ...   \n",
       "171  https://www.jammersreviews.com/st-ds9/s7/tacki...   \n",
       "172  https://www.jammersreviews.com/st-ds9/s7/extre...   \n",
       "173  https://www.jammersreviews.com/st-ds9/s7/dogs.php   \n",
       "174  https://www.jammersreviews.com/st-ds9/s7/leave...   \n",
       "175  https://www.jammersreviews.com/st-ds9/s7/recap...   \n",
       "\n",
       "                                                review comments  \n",
       "0    \"Emissary\" | Star Trek: DS9 | Jammer's Reviews...           \n",
       "1    \"Past Prologue\" | Star Trek: DS9 | Jammer's Re...           \n",
       "2    \"A Man Alone\" | Star Trek: DS9 | Jammer's Revi...           \n",
       "3    \"Babel\" | Star Trek: DS9 | Jammer's Reviews\\n\\...           \n",
       "4    \"Captive Pursuit\" | Star Trek: DS9 | Jammer's ...           \n",
       "..                                                 ...      ...  \n",
       "171  \"Tacking into the Wind\" | Star Trek: DS9 | Jam...           \n",
       "172  \"Extreme Measures\" | Star Trek: DS9 | Jammer's...           \n",
       "173  \"The Dogs of War\" | Star Trek: DS9 | Jammer's ...           \n",
       "174  \"What You Leave Behind\" | Star Trek: DS9 | Jam...           \n",
       "175  Star Trek: DS9 | Seventh Season Recap | Jammer...           \n",
       "\n",
       "[176 rows x 3 columns]"
      ]
     },
     "execution_count": 2,
     "metadata": {},
     "output_type": "execute_result"
    }
   ],
   "source": [
    "import pandas as pd\n",
    "reviews_df = pd.read_pickle('reviews_df.pkl')\n",
    "reviews_df"
   ]
  },
  {
   "cell_type": "code",
   "execution_count": 3,
   "id": "eac2ff9e-e581-493f-b4ee-e4f4ebc00297",
   "metadata": {},
   "outputs": [],
   "source": [
    "# from pandas import option_context\n",
    "\n",
    "#with option_context('display.max_colwidth', None):\n",
    "#    display(reviews_df.head())"
   ]
  },
  {
   "cell_type": "code",
   "execution_count": 4,
   "id": "0f676171-ac3c-43e1-a1e3-c470add8838f",
   "metadata": {},
   "outputs": [],
   "source": [
    "## initial attempt to resolve request too big error was to limit the number of downloads\n",
    "## to seasons 6 and 7.\n",
    "## The proper olution was to reduce chunk size as per\n",
    "## https://community.pinecone.io/t/i-am-getting-this-weird-error-does-anybody-know-why-this-is-happening-and-how-to-solve-it/3702\n",
    "\n",
    "#\"\"\"\n",
    "#import re\n",
    "#\n",
    "#def filter(val):\n",
    "#    res = re.search(r'/s[6-7]/', val)\n",
    "#    if res:\n",
    "#        return True\n",
    "#    else:\n",
    "#        return False\n",
    "#reviews_df = reviews_df[reviews_df['url'].apply(filter)]\n",
    "#\"\"\""
   ]
  },
  {
   "cell_type": "markdown",
   "id": "602fed60-dbdf-424f-a09a-668acb8c77f8",
   "metadata": {},
   "source": [
    "## Create documents"
   ]
  },
  {
   "cell_type": "code",
   "execution_count": 5,
   "id": "97ce531d-4c5a-4dbd-b8ee-f455d1340e6b",
   "metadata": {},
   "outputs": [
    {
     "name": "stdout",
     "output_type": "stream",
     "text": [
      "# Transcription Chunks:  24331\n"
     ]
    }
   ],
   "source": [
    "from groq import Groq\n",
    "\n",
    "from langchain.text_splitter import TokenTextSplitter\n",
    "from langchain.docstore.document import Document\n",
    "from langchain_pinecone import PineconeVectorStore\n",
    "from langchain_community.embeddings.sentence_transformer import SentenceTransformerEmbeddings\n",
    "\n",
    "text_splitter = TokenTextSplitter(\n",
    "\n",
    "    # cutting this in half per https://community.pinecone.io/t/i-am-getting-this-weird-error-does-anybody-know-why-this-is-happening-and-how-to-solve-it/3702\n",
    "    chunk_size=250, # 500 tokens is the max\n",
    "    chunk_overlap=20 # Overlap of N tokens between chunks (to reduce chance of cutting out relevant connected text like middle of sentence)\n",
    ")\n",
    "\n",
    "documents = []\n",
    "for index, row in reviews_df.iterrows():\n",
    "    review_text = row['review']\n",
    "    chunks = text_splitter.split_text(review_text)\n",
    "    for chunk in chunks:\n",
    "        header = f\"Episode URL: {row['url']}\\n\\n\"\n",
    "        documents.append(Document(page_content=header + chunk, metadata={\"source\": \"local\"}))\n",
    "\n",
    "print('# Transcription Chunks: ', len(documents))"
   ]
  },
  {
   "cell_type": "markdown",
   "id": "b076da64-b864-496d-b850-69de5c2e3937",
   "metadata": {},
   "source": [
    "## Create embeddings and populate vector store\n",
    "\n",
    "prior to running this,\n",
    "- get Pinecone key from pinecone.io\n",
    "- add `PINECONE_API_KEY=<pinecone key>` to `.env` file\n",
    "- create index with name \"ds9-document\" with dimension 384 at pinecone.io"
   ]
  },
  {
   "cell_type": "code",
   "execution_count": 6,
   "id": "118c647b-4e56-46c1-86ad-5e14ee476eb1",
   "metadata": {},
   "outputs": [
    {
     "name": "stderr",
     "output_type": "stream",
     "text": [
      "/var/folders/1z/vs8jmngd76g9f81vhb9rxz7m0000gn/T/ipykernel_22232/662743309.py:1: LangChainDeprecationWarning: The class `HuggingFaceEmbeddings` was deprecated in LangChain 0.2.2 and will be removed in 1.0. An updated version of the class exists in the :class:`~langchain-huggingface package and should be used instead. To use it run `pip install -U :class:`~langchain-huggingface` and import as `from :class:`~langchain_huggingface import HuggingFaceEmbeddings``.\n",
      "  embedding_function = SentenceTransformerEmbeddings(model_name=\"all-MiniLM-L6-v2\")\n"
     ]
    }
   ],
   "source": [
    "embedding_function = SentenceTransformerEmbeddings(model_name=\"all-MiniLM-L6-v2\")\n",
    "pinecone_index_name = \"ds9-documents\"\n",
    "docsearch = PineconeVectorStore.from_documents(documents, embedding_function, index_name=pinecone_index_name)"
   ]
  },
  {
   "cell_type": "markdown",
   "id": "92dd9b78-db0b-42b0-9ea9-8cb44aed7cfe",
   "metadata": {},
   "source": [
    "## Let's try some queries"
   ]
  },
  {
   "cell_type": "code",
   "execution_count": 7,
   "id": "bcfbe7ff-9543-41fd-9eaf-1a9af667f5b5",
   "metadata": {},
   "outputs": [],
   "source": [
    "def transcript_chat_completion(client, transcript, user_question):\n",
    "    chat_completion = client.chat.completions.create(\n",
    "        messages=[\n",
    "            {\n",
    "                \"role\": \"system\",\n",
    "                \"content\": '''Use this transcript or transcripts to answer any user questions, citing specific quotes:\n",
    "\n",
    "                {transcript}\n",
    "                '''.format(transcript=transcript)\n",
    "            },\n",
    "            {\n",
    "                \"role\": \"user\",\n",
    "                \"content\": user_question,\n",
    "            }\n",
    "        ],\n",
    "        model=\"llama3-8b-8192\",\n",
    "    )\n",
    "\n",
    "    print(chat_completion.choices[0].message.content)"
   ]
  },
  {
   "cell_type": "code",
   "execution_count": 8,
   "id": "1604e862-2048-449a-ba34-98f9727a551a",
   "metadata": {},
   "outputs": [],
   "source": [
    "import os\n",
    "client = Groq(api_key = os.getenv('GROQ_API_KEY'))\n",
    "#model = 'llama-3.3-70b-versatile'"
   ]
  },
  {
   "cell_type": "code",
   "execution_count": 9,
   "id": "dec5099f-0e90-4888-92df-7a039d0675e6",
   "metadata": {},
   "outputs": [
    {
     "name": "stdout",
     "output_type": "stream",
     "text": [
      "According to the reviews, the reviewer's favorite episodes are:\n",
      "\n",
      "1. \"Far Beyond the Stars\" - rated 4 out of 5\n",
      "2. \"In the Pale Moonlight\" - rated 4 out of 5\n",
      "3. \"The Sound of Her Voice\" - rated 3.5 out of 5\n",
      "\n",
      "These episodes are highlighted as standouts by the reviewer, who mentions that \"Far Beyond the Stars\" is their favorite episode of the season.\n"
     ]
    }
   ],
   "source": [
    "user_question = \"Based on the reviews, what are the reviewer's favorite episodes?\"\n",
    "relevent_docs = docsearch.similarity_search(user_question)\n",
    "delimiter =  '\\n\\n------------------------------------------------------\\n\\n'\n",
    "num_docs = 3\n",
    "relevant_transcripts = delimiter.join([doc.page_content for doc in relevent_docs[:num_docs]])\n",
    "transcript_chat_completion(client, relevant_transcripts, user_question)"
   ]
  },
  {
   "cell_type": "code",
   "execution_count": 10,
   "id": "d71190b0-196d-4f9e-9e5a-2618287f1e14",
   "metadata": {},
   "outputs": [
    {
     "name": "stdout",
     "output_type": "stream",
     "text": [
      "Based on the reviews, it seems that Rom is a well-liked character. The reviewer \"denchik\" praises denchik's performance as Rom, calling him \"wholly admirable\" and saying that he is one of the greatest disappointments that the writers turned him into a parody of himself, making him one of the most annoying characters on the show.\n",
      "\n",
      "It is also worth noting that Rom is not explicitly mentioned as a favorite character by other reviewers, but the fact that denchik praises Rom's performance so highly suggests that Rom may be a well-liked character in the series.\n"
     ]
    }
   ],
   "source": [
    "user_question = \"Based on the reviews, what are the reviewer's favorite character in the series?\"\n",
    "relevent_docs = docsearch.similarity_search(user_question)\n",
    "delimiter =  '\\n\\n------------------------------------------------------\\n\\n'\n",
    "num_docs = 3\n",
    "relevant_transcripts = delimiter.join([doc.page_content for doc in relevent_docs[:num_docs]])\n",
    "transcript_chat_completion(client, relevant_transcripts, user_question)"
   ]
  },
  {
   "cell_type": "code",
   "execution_count": null,
   "id": "ca67a054-0827-4a6d-81b0-0d22f2549a72",
   "metadata": {},
   "outputs": [],
   "source": []
  }
 ],
 "metadata": {
  "kernelspec": {
   "display_name": "Python 3 (ipykernel)",
   "language": "python",
   "name": "python3"
  },
  "language_info": {
   "codemirror_mode": {
    "name": "ipython",
    "version": 3
   },
   "file_extension": ".py",
   "mimetype": "text/x-python",
   "name": "python",
   "nbconvert_exporter": "python",
   "pygments_lexer": "ipython3",
   "version": "3.11.11"
  }
 },
 "nbformat": 4,
 "nbformat_minor": 5
}
