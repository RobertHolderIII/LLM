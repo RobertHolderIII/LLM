{
 "cells": [
  {
   "cell_type": "code",
   "execution_count": 1,
   "id": "f232e733-dbad-4664-8d99-b5633cfa5832",
   "metadata": {},
   "outputs": [],
   "source": [
    "import requests\n",
    "from googlesearch import search\n",
    "import chromadb\n",
    "from bs4 import BeautifulSoup"
   ]
  },
  {
   "cell_type": "markdown",
   "id": "27314739-11df-441e-a962-6a7987b53a59",
   "metadata": {},
   "source": [
    "## Set up summarization model and prompt"
   ]
  },
  {
   "cell_type": "code",
   "execution_count": 2,
   "id": "80c9e2f7-98b8-4a5c-9531-8cfbfa7fcd91",
   "metadata": {},
   "outputs": [],
   "source": [
    "from groq import Groq\n",
    "import os\n",
    "\n",
    "client = Groq(api_key = os.getenv('GROQ_API_KEY'))\n",
    "\n",
    "def summarize(client, transcript):\n",
    "    chat_completion = client.chat.completions.create(\n",
    "        messages=[\n",
    "            {\n",
    "                \"role\": \"system\",\n",
    "                \"content\": \"You are a helpful assistant that summarizes text.\"\n",
    "            },\n",
    "            {\n",
    "                \"role\": \"user\",\n",
    "                \"content\": f\"Please summarize the following transcription:\\n\\n{transcript}\",\n",
    "            }\n",
    "        ],\n",
    "        model=\"llama-3.3-70b-versatile\",\n",
    "    )\n",
    "\n",
    "    return chat_completion.choices[0].message.content\n"
   ]
  },
  {
   "cell_type": "markdown",
   "id": "1d382416-ff27-415a-9767-604a74592095",
   "metadata": {},
   "source": [
    "## Do Google search"
   ]
  },
  {
   "cell_type": "code",
   "execution_count": 3,
   "id": "6047e545-aace-4415-8404-0720fbd47152",
   "metadata": {},
   "outputs": [
    {
     "data": {
      "text/plain": [
       "['https://www.cnbc.com/2025/04/24/trump-tariffs-pepsi-chipotle-pg-cut-earnings-forecasts.html',\n",
       " 'https://finance.yahoo.com/news/live/trump-tariffs-live-updates-china-pushes-back-as-trump-claims-progress-on-trade-talks-191201016.html',\n",
       " 'https://www.pbs.org/newshour/show/economic-forecasts-show-trumps-tariffs-having-major-global-impact',\n",
       " 'https://finance.yahoo.com/news/live/trump-tariffs-live-updates-trump-says-china-tariffs-wont-stay-at-145-bessent-hints-at-deescalation-191201492.html',\n",
       " 'https://www.deseret.com/business/2025/04/23/donald-trump-trade-tariffs-imf-report-slower-economic-growth-higher-inflation/']"
      ]
     },
     "execution_count": 3,
     "metadata": {},
     "output_type": "execute_result"
    }
   ],
   "source": [
    "query = \"US tariff news, analysis, and predictions\"\n",
    "\n",
    "search_res = list(search(query, num_results=90, unique=True))\n",
    "search_res[:5]"
   ]
  },
  {
   "cell_type": "code",
   "execution_count": 4,
   "id": "236fee99-ef1c-4c5d-a960-a22dc5c615c9",
   "metadata": {},
   "outputs": [],
   "source": [
    "# for debugging.  and there is a webpage that hangs\n",
    "search_res = search_res[:10]"
   ]
  },
  {
   "cell_type": "markdown",
   "id": "14671b82-3368-4089-89e9-9bb717bb6cc5",
   "metadata": {},
   "source": [
    "## Follow each link, and pull out the text"
   ]
  },
  {
   "cell_type": "code",
   "execution_count": 5,
   "id": "c996d188-3433-4ea7-a939-67e148624f30",
   "metadata": {},
   "outputs": [
    {
     "name": "stdout",
     "output_type": "stream",
     "text": [
      "downloading https://www.cnbc.com/2025/04/24/trump-tariffs-pepsi-chipotle-pg-cut-earnings-forecasts.html...\n",
      "downloading https://finance.yahoo.com/news/live/trump-tariffs-live-updates-china-pushes-back-as-trump-claims-progress-on-trade-talks-191201016.html...\n",
      "downloading https://www.pbs.org/newshour/show/economic-forecasts-show-trumps-tariffs-having-major-global-impact...\n",
      "downloading https://finance.yahoo.com/news/live/trump-tariffs-live-updates-trump-says-china-tariffs-wont-stay-at-145-bessent-hints-at-deescalation-191201492.html...\n",
      "downloading https://www.deseret.com/business/2025/04/23/donald-trump-trade-tariffs-imf-report-slower-economic-growth-higher-inflation/...\n",
      "downloading https://www.pbs.org/newshour/politics/americans-expect-higher-prices-from-trumps-tariffs-new-poll-shows...\n",
      "downloading https://www.theguardian.com/us-news/2025/apr/16/trump-tariffs-will-send-global-trade-into-reverse-this-year-warns-wto...\n",
      "downloading https://www.jpmorgan.com/insights/global-research/current-events/us-tariffs...\n",
      "downloading https://www.youtube.com/watch?v=1pEKOnuwdqw...\n",
      "downloading https://budgetlab.yale.edu/research/fiscal-and-economic-effects-revised-april-9-tariffs...\n",
      "CPU times: user 343 ms, sys: 48.5 ms, total: 392 ms\n",
      "Wall time: 3.05 s\n"
     ]
    },
    {
     "data": {
      "text/plain": [
       "'Access Denied\\n\\nAccess Denied\\n \\nYou don\\'t have permission to access \"http://www.cnbc.com/2025/04/24/t'"
      ]
     },
     "execution_count": 5,
     "metadata": {},
     "output_type": "execute_result"
    }
   ],
   "source": [
    "%%time\n",
    "## TODO handle video - either skip it or extract the text from the audio\n",
    "## TODO handle pages that are taking too long to respond\n",
    "\n",
    "def get_text(url):\n",
    "    print(f'downloading {url}...')\n",
    "    response = requests.get(url)\n",
    "    html = response.text\n",
    "    text = BeautifulSoup(html, features=\"html.parser\").get_text().strip()\n",
    "    return text\n",
    "    \n",
    "documents = [get_text(url) for url in search_res]\n",
    "ids = [f'id{i}' for i in range(len(documents))]\n",
    "metadatas = [{'source-url': url} for url in search_res]\n",
    "\n",
    "# print out first characters of first document\n",
    "documents[0][0:100]"
   ]
  },
  {
   "cell_type": "markdown",
   "id": "5a3cb95b-b238-49ba-8a7b-958dabc5a362",
   "metadata": {},
   "source": [
    "## Set up vector store for document embeddings"
   ]
  },
  {
   "cell_type": "code",
   "execution_count": 6,
   "id": "4218c57c-2f96-49b8-9885-9ce3156d7fb1",
   "metadata": {},
   "outputs": [
    {
     "name": "stdout",
     "output_type": "stream",
     "text": [
      "collection has 10 documents\n",
      "CPU times: user 1.87 s, sys: 777 ms, total: 2.64 s\n",
      "Wall time: 1.52 s\n"
     ]
    }
   ],
   "source": [
    "%%time\n",
    "\n",
    "chroma_client = chromadb.Client()\n",
    "collection_name = \"webpages\"\n",
    "\n",
    "# get rid of old collection\n",
    "try:\n",
    "    chroma_client.get_collection(collection_name)\n",
    "except:\n",
    "    # Collection does not exist\n",
    "    pass\n",
    "else:\n",
    "    chroma_client.delete_collection(collection_name)\n",
    "\n",
    "collection = chroma_client.create_collection(name=collection_name)\n",
    "\n",
    "# TODO need to hangle the case where search_res has a URL that we did not use\n",
    "# `add` uses Chroma's default sentence embedding model\n",
    "collection.add(documents=documents, ids=ids, metadatas=metadatas)\n",
    "\n",
    "print(f'collection has {collection.count()} documents')\n"
   ]
  },
  {
   "cell_type": "markdown",
   "id": "2a5ce717-af38-4836-8301-78240e609310",
   "metadata": {},
   "source": [
    "## Pull the most relevant documents based on the query"
   ]
  },
  {
   "cell_type": "code",
   "execution_count": 7,
   "id": "3578c9ae-4b4f-4075-8a79-139a1767dc31",
   "metadata": {},
   "outputs": [
    {
     "name": "stdout",
     "output_type": "stream",
     "text": [
      "CPU times: user 882 ms, sys: 323 ms, total: 1.2 s\n",
      "Wall time: 552 ms\n"
     ]
    }
   ],
   "source": [
    "%%time\n",
    "\n",
    "retrieval = collection.query(\n",
    "    query_texts=[\"what are the most important bits of news to know about US tariff policy and analysis of future actions?\"],\n",
    "    n_results=10,\n",
    "    include=[\"documents\", \"metadatas\"]\n",
    ")\n",
    "retrieved_docs = retrieval['documents'][0]"
   ]
  },
  {
   "cell_type": "markdown",
   "id": "62b83c2e-4978-45e9-b159-41bcefee57a7",
   "metadata": {},
   "source": [
    "## Generate summaries"
   ]
  },
  {
   "cell_type": "code",
   "execution_count": 8,
   "id": "d485d8ce-7285-4961-a95e-1fa1d7b7ca32",
   "metadata": {},
   "outputs": [
    {
     "name": "stdout",
     "output_type": "stream",
     "text": [
      "CPU times: user 107 ms, sys: 27.4 ms, total: 134 ms\n",
      "Wall time: 53.9 s\n"
     ]
    }
   ],
   "source": [
    "%%time\n",
    "\n",
    "summaries = [summarize(client,doc) for doc in retrieved_docs]"
   ]
  },
  {
   "cell_type": "markdown",
   "id": "776f43f8-d3eb-44a0-aa14-af0c650c236e",
   "metadata": {},
   "source": [
    "## Print out results"
   ]
  },
  {
   "cell_type": "code",
   "execution_count": 9,
   "id": "845894fa-a188-4ce8-a6d1-846640cff4f5",
   "metadata": {},
   "outputs": [
    {
     "name": "stdout",
     "output_type": "stream",
     "text": [
      "1: https://www.deseret.com/business/2025/04/23/donald-trump-trade-tariffs-imf-report-slower-economic-growth-higher-inflation/\n",
      "---------------------\n",
      "The article discusses the latest data on the impact of tariffs on the US economy. According to a new report from the International Monetary Fund (IMF), the US is headed for a \"tariff double-shock\" of higher inflation and slower growth. The report predicts that US economic growth will slow to 1.8% this year, down from a previous forecast of 2.7%, and that inflation will rise by 1 percentage point to 3%. The IMF attributes the decline in growth and increase in inflation to trade tensions and high policy uncertainty, with tariffs accounting for 0.4 percentage point of the reduction in growth.\n",
      "\n",
      "The report also notes that the US has raised tariffs on imports from China to 145%, and that tariffs on steel and aluminum imports, as well as goods from Canada and Mexico, are also in place. However, there are reports that the White House is considering reducing the tariffs on China to de-escalate the trade war.\n",
      "\n",
      "On a positive note, the IMF report suggests that the new revenue streams generated by US import tariffs could help reduce the national deficit. The report projects that the overall US federal deficit will fall to 6.5% of gross domestic product this year, down from 7.3% in 2024.\n",
      "\n",
      "Overall, the article suggests that the ongoing trade war and tariffs are having a significant impact on the US economy, with both positive and negative effects. While the tariffs may generate new revenue streams, they are also contributing to higher inflation and slower growth.\n",
      "\n",
      "\n",
      "2: https://www.pbs.org/newshour/show/economic-forecasts-show-trumps-tariffs-having-major-global-impact\n",
      "---------------------\n",
      "The transcription discusses the impact of President Trump's tariffs on the global economy. According to the International Monetary Fund (IMF), the US economy is expected to slow down by 1 percentage point, growing by only 1.8% this year, while global growth is expected to slow by half a percentage point. The tariffs and uncertainty are rattling the economy, causing the dollar to decline and investors to worry about treasury bonds.\n",
      "\n",
      "Treasury Secretary Scott Bessent reportedly told investors that he believes the trade war with China is unsustainable and hopes tariffs on both sides could be eased. This led to a rally in the US markets, with the Dow gaining over 1,000 points.\n",
      "\n",
      "Ron Insana, a CNBC contributor, discussed the volatility in the markets, stating that the financial instruments are telling politicians that the trade war is a bad idea and that the US economy will likely grow under 1% this year if the uncertainty persists. Insana believes that the Federal Reserve is strong enough to resist pressure from the Trump administration to cut rates.\n",
      "\n",
      "The IMF's forecast has sparked concerns about a potential recession, with some estimates suggesting a 90% chance of a recession if the tariffs remain in place for a sustained period. Insana thinks that the 1.8% growth estimate is optimistic and that the economy may grow under 1% this year.\n",
      "\n",
      "Overall, the transcription suggests that the trade war and tariffs are having a significant impact on the global economy, and that the uncertainty and volatility are causing concerns about a potential recession.\n",
      "\n",
      "\n",
      "3: https://budgetlab.yale.edu/research/fiscal-and-economic-effects-revised-april-9-tariffs\n",
      "---------------------\n",
      "The Budget Lab at Yale analyzed the fiscal and economic effects of the revised April 9 tariffs. The key findings include:\n",
      "\n",
      "1. **Average effective tariff rate**: The overall average effective tariff rate is 27%, the highest since 1903, which will decrease to 18.5% after consumers and businesses adjust to the tariffs.\n",
      "2. **Price level and distributional effects**: The tariffs will increase the price level by 2.9% in the short-run, resulting in a $4,700 loss per household, and 1.7% in the long-run, resulting in a $2,700 loss per household. The burden of the tariffs falls disproportionately on low-income households.\n",
      "3. **Commodity prices**: The tariffs will have a significant impact on clothing and textile prices, with a 64% increase in the short-run and a 27% increase in the long-run. Food prices will rise by 2.6% in the short-run and 3% in the long-run.\n",
      "4. **Real GDP effects**: The tariffs will lower US real GDP growth by 1.1 percentage points in 2025 and result in a persistently smaller economy, with a loss of $170 billion annually.\n",
      "5. **Labor market effects**: The tariffs will increase the unemployment rate by 0.6 percentage points and reduce payroll employment by 740,000.\n",
      "6. **Fiscal effects**: The tariffs will raise $2.4 trillion in revenue over 2026-2035, but will also result in negative dynamic revenue effects of $587 billion due to the negative impact on the economy.\n",
      "\n",
      "Overall, the analysis suggests that the revised April 9 tariffs will have significant negative effects on the US economy, particularly for low-income households, and will result in higher prices, lower economic growth, and reduced employment.\n",
      "\n",
      "\n",
      "4: https://www.theguardian.com/us-news/2025/apr/16/trump-tariffs-will-send-global-trade-into-reverse-this-year-warns-wto\n",
      "---------------------\n",
      "The World Trade Organization (WTO) has warned that Donald Trump's tariffs will send global trade into reverse this year, depressing global economic growth. The WTO has downgraded its forecast for global goods trade from a 2.7% expansion to a 0.2% decline. The main concern is the \"decoupling\" of the US and China, with trade between the two countries expected to plummet by 81-91%. The WTO's director general, Ngozi Okonjo-Iweala, has expressed concern about the impact of trade policy uncertainty on global trade and economic growth. The organization predicts that if Trump's \"reciprocal\" tariffs are reimposed, it could lead to a 0.8% decline in global goods trade and a 1.5% decline in the worst-case scenario. The WTO, International Monetary Fund, and World Bank have all warned about the potential shock to trade from a tariff war, with the IMF predicting a \"major negative shock\" and the World Bank warning of slower global growth.\n",
      "\n",
      "\n",
      "5: https://www.youtube.com/watch?v=1pEKOnuwdqw\n",
      "---------------------\n",
      "The International Monetary Fund (IMF) has stated that the US is expected to be the hardest hit by the tariffs imposed by Donald Trump, according to a report by BBC News on YouTube.\n",
      "\n",
      "\n",
      "6: https://www.pbs.org/newshour/politics/americans-expect-higher-prices-from-trumps-tariffs-new-poll-shows\n",
      "---------------------\n",
      "A recent poll by the Associated Press-NORC Center for Public Affairs Research shows that many Americans expect higher prices due to President Donald Trump's tariffs. Approximately half of US adults believe that Trump's trade policies will increase prices \"a lot,\" while another 3 in 10 think prices will rise \"somewhat.\" The poll also found that about half of Americans are \"extremely\" or \"very\" concerned about the possibility of a recession in the next few months.\n",
      "\n",
      "The survey suggests that Trump's handling of the economy and tariffs is a potential weakness, with about 4 in 10 Americans approving of his approach. Many people are concerned about the impact of tariffs on grocery prices, with about 6 in 10 US adults being \"extremely\" or \"very\" concerned about the cost of groceries in the next few months.\n",
      "\n",
      "The poll also reveals that Americans are skeptical about Trump's tariff approach, with about 6 in 10 saying he has \"gone too far\" in imposing new tariffs. The survey was conducted from April 17-21, with a sample of 1,260 adults, and has a margin of sampling error of plus or minus 3.9 percentage points.\n",
      "\n",
      "Overall, the poll indicates that Americans are anxious about the economic impact of Trump's tariffs and are concerned about the potential for higher prices, recession, and disruptions to their daily lives.\n",
      "\n",
      "\n",
      "7: https://www.jpmorgan.com/insights/global-research/current-events/us-tariffs\n",
      "---------------------\n",
      "The provided text is a webpage from J.P. Morgan Research discussing the impact of US tariffs on global trade and the economy. Here's a summary:\n",
      "\n",
      "**Overview**\n",
      "The Trump administration has imposed various tariffs on specific countries and commodities, aiming to protect American interests. The rollout has been marred by delays and reversals, but the latest announcements have sparked an international response, sending markets tumbling and increasing the risk of a global recession.\n",
      "\n",
      "**Key Points**\n",
      "\n",
      "1. **Tariff Impact**: The tariffs could raise consumer prices, with estimates suggesting a 1-1.5% increase in PCE prices this year. The inflationary effects would likely be realized in the middle quarters of the year.\n",
      "2. **Global Recession Risk**: J.P. Morgan Research believes there is a 40% risk of a global recession taking hold this year, up from 30% at the start of 2025, due to US trade policy.\n",
      "3. **Trade Policy Uncertainty**: The uncertainty surrounding trade policy is weighing on business confidence, with declines in sentiment measures and a sell-off in equity markets.\n",
      "4. **Growth Forecasts**: J.P. Morgan Research has revised down its estimate for 2025 real GDP growth due to heightened trade policy uncertainty, existing tariffs, and retaliatory measures.\n",
      "5. **China's Growth Outlook**: China's growth outlook has been revised down to 4.4% for 2025, with the tariffs and global economic outlook expected to drag on growth.\n",
      "6. **Auto Tariffs**: The 25% tariffs on auto and auto parts entering the US could raise costs for consumers, with potential price increases of up to 11.4% on average.\n",
      "\n",
      "**Conclusion**\n",
      "The US tariffs and trade policy uncertainty are having a significant impact on global trade and the economy. The risk of a global recession is increasing, and growth forecasts are being revised down. The situation is evolving, and J.P. Morgan Research will continue to provide updates and analysis on the latest developments.\n",
      "\n",
      "\n",
      "8: https://www.cnbc.com/2025/04/24/trump-tariffs-pepsi-chipotle-pg-cut-earnings-forecasts.html\n",
      "---------------------\n",
      "The transcription is an error message indicating that access to a specific CNBC webpage is denied due to lack of permission. It provides a reference number and a link to an error page.\n",
      "\n",
      "\n",
      "9: https://finance.yahoo.com/news/live/trump-tariffs-live-updates-china-pushes-back-as-trump-claims-progress-on-trade-talks-191201016.html\n",
      "---------------------\n",
      "The transcription provided is \"Edge: Too Many Requests\". This appears to be an error message, likely from a website or application, indicating that the user has made too many requests in a short period of time, resulting in a temporary block or restriction.\n",
      "\n",
      "\n",
      "10: https://finance.yahoo.com/news/live/trump-tariffs-live-updates-trump-says-china-tariffs-wont-stay-at-145-bessent-hints-at-deescalation-191201492.html\n",
      "---------------------\n",
      "The transcription \"Edge: Too Many Requests\" appears to be an error message, likely indicating that the Edge browser (or a related service) is blocking a request due to excessive activity. No further context is provided. If you'd like more information or help with this issue, I can try to provide more general guidance on resolving \"Too Many Requests\" errors.\n",
      "\n",
      "\n"
     ]
    }
   ],
   "source": [
    "metadatas = retrieval['metadatas'][0]\n",
    "urls = [data['source-url'] for data in metadatas]\n",
    "for idx, (url, summary) in enumerate(zip(urls, summaries)):\n",
    "    print(f'{idx+1}: {url}\\n---------------------\\n{summary}\\n\\n')"
   ]
  },
  {
   "cell_type": "code",
   "execution_count": null,
   "id": "da8643b8-8592-45e1-b2c5-b1e1a7778fb4",
   "metadata": {},
   "outputs": [],
   "source": []
  }
 ],
 "metadata": {
  "kernelspec": {
   "display_name": "Python 3 (ipykernel)",
   "language": "python",
   "name": "python3"
  },
  "language_info": {
   "codemirror_mode": {
    "name": "ipython",
    "version": 3
   },
   "file_extension": ".py",
   "mimetype": "text/x-python",
   "name": "python",
   "nbconvert_exporter": "python",
   "pygments_lexer": "ipython3",
   "version": "3.11.11"
  }
 },
 "nbformat": 4,
 "nbformat_minor": 5
}
