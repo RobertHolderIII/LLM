{
 "cells": [
  {
   "cell_type": "code",
   "execution_count": 1,
   "id": "f232e733-dbad-4664-8d99-b5633cfa5832",
   "metadata": {},
   "outputs": [],
   "source": [
    "import requests\n",
    "from googlesearch import search\n",
    "import chromadb\n",
    "from bs4 import BeautifulSoup\n",
    "from dotenv import load_dotenv"
   ]
  },
  {
   "cell_type": "markdown",
   "id": "27314739-11df-441e-a962-6a7987b53a59",
   "metadata": {},
   "source": [
    "## Set up summarization model and prompt"
   ]
  },
  {
   "cell_type": "code",
   "execution_count": 2,
   "id": "80c9e2f7-98b8-4a5c-9531-8cfbfa7fcd91",
   "metadata": {},
   "outputs": [],
   "source": [
    "from groq import Groq\n",
    "import os\n",
    "load_dotenv('../.env')\n",
    "client = Groq(api_key = os.getenv('GROQ_API_KEY'))\n",
    "\n",
    "def summarize(client, transcript):\n",
    "    chat_completion = client.chat.completions.create(\n",
    "        messages=[\n",
    "            {\n",
    "                \"role\": \"system\",\n",
    "                \"content\": \"You are a helpful assistant that summarizes text.\"\n",
    "            },\n",
    "            {\n",
    "                \"role\": \"user\",\n",
    "                \"content\": f\"Please summarize the following transcription:\\n\\n{transcript}\",\n",
    "            }\n",
    "        ],\n",
    "        model=\"llama-3.3-70b-versatile\",\n",
    "    )\n",
    "\n",
    "    return chat_completion.choices[0].message.content\n"
   ]
  },
  {
   "cell_type": "markdown",
   "id": "1d382416-ff27-415a-9767-604a74592095",
   "metadata": {},
   "source": [
    "## Do Google search"
   ]
  },
  {
   "cell_type": "code",
   "execution_count": 3,
   "id": "6047e545-aace-4415-8404-0720fbd47152",
   "metadata": {},
   "outputs": [
    {
     "data": {
      "text/plain": [
       "['https://www.cnn.com/2025/05/02/economy/europe-lower-inflation-us-tariffs-analysis-intl',\n",
       " 'https://www.cnbc.com/2025/05/02/heres-how-china-could-retaliate-against-us-tariffs.html',\n",
       " 'https://www.jpmorgan.com/insights/global-research/current-events/us-tariffs',\n",
       " 'https://finance.yahoo.com/news/live/trump-tariffs-live-updates-china-says-door-is-open-to-trade-talks-with-the-us-191201877.html',\n",
       " 'https://www.investors.com/news/trump-tariffs-trade-war-us-ports-empty/']"
      ]
     },
     "execution_count": 3,
     "metadata": {},
     "output_type": "execute_result"
    }
   ],
   "source": [
    "query = \"US tariff news, analysis, and predictions\"\n",
    "\n",
    "search_res = list(search(query, num_results=90, unique=True))\n",
    "search_res[:5]"
   ]
  },
  {
   "cell_type": "code",
   "execution_count": 4,
   "id": "236fee99-ef1c-4c5d-a960-a22dc5c615c9",
   "metadata": {},
   "outputs": [],
   "source": [
    "# for debugging.  and there is a webpage that hangs\n",
    "search_res = search_res[:10]"
   ]
  },
  {
   "cell_type": "markdown",
   "id": "14671b82-3368-4089-89e9-9bb717bb6cc5",
   "metadata": {},
   "source": [
    "## Follow each link, and pull out the text"
   ]
  },
  {
   "cell_type": "code",
   "execution_count": 5,
   "id": "c996d188-3433-4ea7-a939-67e148624f30",
   "metadata": {},
   "outputs": [
    {
     "name": "stdout",
     "output_type": "stream",
     "text": [
      "downloading https://www.cnn.com/2025/05/02/economy/europe-lower-inflation-us-tariffs-analysis-intl...\n",
      "downloading https://www.cnbc.com/2025/05/02/heres-how-china-could-retaliate-against-us-tariffs.html...\n",
      "downloading https://www.jpmorgan.com/insights/global-research/current-events/us-tariffs...\n",
      "downloading https://finance.yahoo.com/news/live/trump-tariffs-live-updates-china-says-door-is-open-to-trade-talks-with-the-us-191201877.html...\n",
      "downloading https://www.investors.com/news/trump-tariffs-trade-war-us-ports-empty/...\n",
      "downloading https://www.nytimes.com/2025/05/02/business/jobs-report-april-tariffs.html...\n",
      "downloading https://www.cnbc.com/2025/05/02/trump-tariffs-what-to-expect-on-prime-day-july-4-and-black-friday.html...\n",
      "downloading https://www.reuters.com/business/tariffs/...\n",
      "downloading https://www.cnn.com/2025/04/27/politics/tariffs-trump-trade-war/index.html...\n",
      "downloading https://budgetlab.yale.edu/research/where-we-stand-fiscal-economic-and-distributional-effects-all-us-tariffs-enacted-2025-through-april...\n",
      "CPU times: user 312 ms, sys: 50.8 ms, total: 363 ms\n",
      "Wall time: 1.8 s\n"
     ]
    },
    {
     "data": {
      "text/plain": [
       "'Analysis: US tariffs could make Europe ‘Great Again’ by lowering prices | CNN Business\\n\\n\\n\\n\\n\\n\\n\\n\\n\\n\\n\\n\\n\\n'"
      ]
     },
     "execution_count": 5,
     "metadata": {},
     "output_type": "execute_result"
    }
   ],
   "source": [
    "%%time\n",
    "## TODO handle video - either skip it or extract the text from the audio\n",
    "## TODO handle pages that are taking too long to respond\n",
    "\n",
    "def get_text(url):\n",
    "    print(f'downloading {url}...')\n",
    "    response = requests.get(url)\n",
    "    html = response.text\n",
    "    text = BeautifulSoup(html, features=\"html.parser\").get_text().strip()\n",
    "    return text\n",
    "    \n",
    "documents = [get_text(url) for url in search_res]\n",
    "ids = [f'id{i}' for i in range(len(documents))]\n",
    "metadatas = [{'source-url': url} for url in search_res]\n",
    "\n",
    "# print out first characters of first document\n",
    "documents[0][0:100]"
   ]
  },
  {
   "cell_type": "markdown",
   "id": "5a3cb95b-b238-49ba-8a7b-958dabc5a362",
   "metadata": {},
   "source": [
    "## Set up vector store for document embeddings"
   ]
  },
  {
   "cell_type": "code",
   "execution_count": 6,
   "id": "4218c57c-2f96-49b8-9885-9ce3156d7fb1",
   "metadata": {},
   "outputs": [
    {
     "name": "stdout",
     "output_type": "stream",
     "text": [
      "collection has 10 documents\n",
      "CPU times: user 1.86 s, sys: 821 ms, total: 2.68 s\n",
      "Wall time: 1.78 s\n"
     ]
    }
   ],
   "source": [
    "%%time\n",
    "\n",
    "chroma_client = chromadb.Client()\n",
    "collection_name = \"webpages\"\n",
    "\n",
    "# get rid of old collection\n",
    "try:\n",
    "    chroma_client.get_collection(collection_name)\n",
    "except:\n",
    "    # Collection does not exist\n",
    "    pass\n",
    "else:\n",
    "    chroma_client.delete_collection(collection_name)\n",
    "\n",
    "collection = chroma_client.create_collection(name=collection_name)\n",
    "\n",
    "# TODO need to hangle the case where search_res has a URL that we did not use\n",
    "# `add` uses Chroma's default sentence embedding model\n",
    "collection.add(documents=documents, ids=ids, metadatas=metadatas)\n",
    "\n",
    "print(f'collection has {collection.count()} documents')\n"
   ]
  },
  {
   "cell_type": "markdown",
   "id": "2a5ce717-af38-4836-8301-78240e609310",
   "metadata": {},
   "source": [
    "## Pull the most relevant documents based on the query"
   ]
  },
  {
   "cell_type": "code",
   "execution_count": 7,
   "id": "3578c9ae-4b4f-4075-8a79-139a1767dc31",
   "metadata": {},
   "outputs": [
    {
     "name": "stdout",
     "output_type": "stream",
     "text": [
      "CPU times: user 887 ms, sys: 306 ms, total: 1.19 s\n",
      "Wall time: 534 ms\n"
     ]
    }
   ],
   "source": [
    "%%time\n",
    "\n",
    "retrieval = collection.query(\n",
    "    query_texts=[\"what are the most important bits of news to know about US tariff policy and analysis of future actions?\"],\n",
    "    n_results=10,\n",
    "    include=[\"documents\", \"metadatas\"]\n",
    ")\n",
    "retrieved_docs = retrieval['documents'][0]"
   ]
  },
  {
   "cell_type": "markdown",
   "id": "62b83c2e-4978-45e9-b159-41bcefee57a7",
   "metadata": {},
   "source": [
    "## Generate summaries"
   ]
  },
  {
   "cell_type": "code",
   "execution_count": 8,
   "id": "d485d8ce-7285-4961-a95e-1fa1d7b7ca32",
   "metadata": {},
   "outputs": [
    {
     "name": "stdout",
     "output_type": "stream",
     "text": [
      "CPU times: user 124 ms, sys: 27.3 ms, total: 151 ms\n",
      "Wall time: 1min 8s\n"
     ]
    }
   ],
   "source": [
    "%%time\n",
    "\n",
    "summaries = [summarize(client,doc) for doc in retrieved_docs]"
   ]
  },
  {
   "cell_type": "markdown",
   "id": "776f43f8-d3eb-44a0-aa14-af0c650c236e",
   "metadata": {},
   "source": [
    "## Print out results"
   ]
  },
  {
   "cell_type": "code",
   "execution_count": 9,
   "id": "845894fa-a188-4ce8-a6d1-846640cff4f5",
   "metadata": {},
   "outputs": [
    {
     "name": "stdout",
     "output_type": "stream",
     "text": [
      "1: https://budgetlab.yale.edu/research/where-we-stand-fiscal-economic-and-distributional-effects-all-us-tariffs-enacted-2025-through-april\n",
      "---------------------\n",
      "The Budget Lab at Yale has analyzed the fiscal, economic, and distributional effects of all US tariffs enacted in 2025 through April 2. The key takeaways are:\n",
      "\n",
      "1. **Increased Tariff Rate**: The average effective US tariff rate has risen to 22.5%, the highest since 1909, due to the new tariffs.\n",
      "2. **Price Increases**: The price level is expected to rise by 2.3% in the short run, resulting in an average household loss of $3,800 in 2024.\n",
      "3. **GDP Impact**: US real GDP growth is expected to be 0.9% lower in 2025, and the economy will be 0.6% smaller in the long run, equivalent to $180 billion annually.\n",
      "4. **Distributional Effects**: Tariffs are regressive, with households at the bottom of the income ladder bearing a larger burden. The average annual cost to households in the 2nd decile is $1,700, while those in the top decile face an average cost of $8,100.\n",
      "5. **Commodity Price Effects**: Clothing and textiles, food, and motor vehicles are disproportionately affected, with apparel prices rising by 17% and motor vehicle prices increasing by 8.4%.\n",
      "6. **Fiscal Impact**: The tariffs are expected to raise $3.1 trillion over 10 years, but with dynamic revenue effects of -$582 billion.\n",
      "7. **Global Impact**: The tariffs will have a negative impact on the global economy, with Canada's economy expected to be 2.1% smaller in the long run.\n",
      "\n",
      "Overall, the analysis suggests that the new tariffs will have significant economic and distributional effects, with lower-income households bearing a larger burden.\n",
      "\n",
      "\n",
      "2: https://www.cnn.com/2025/05/02/economy/europe-lower-inflation-us-tariffs-analysis-intl\n",
      "---------------------\n",
      "The article discusses how US tariffs imposed by President Donald Trump could have an unexpected effect: lowering prices in Europe, rather than the US. This is because China may \"reroute\" its exports away from the US and towards Europe, increasing competition and driving prices down. Additionally, the strengthening of the euro against the dollar makes imports cheaper, which can also lead to lower prices. As a result, European policymakers may have more room to cut interest rates if the economy needs a boost, while the US may find it harder to lower borrowing costs due to higher inflation.\n",
      "\n",
      "The article cites economists from Nomura and the International Monetary Fund, who predict that Trump's tariffs will push inflation higher in the US, while having a dampening effect on prices in Europe. The article also mentions that some companies, such as Adidas, may pass on the costs of the tariffs to American consumers, leading to higher prices.\n",
      "\n",
      "The impact of the tariffs on energy prices is also discussed, with oil prices having tanked since the tariffs were announced. Natural gas prices have also declined, with European prices predicted to increase only modestly this year and fall next year, according to World Bank forecasts.\n",
      "\n",
      "Overall, the article suggests that Trump's tariffs could have the unintended consequence of making Europe \"Great Again\" in terms of inflation, while the US may struggle with higher prices and lower economic growth.\n",
      "\n",
      "\n",
      "3: https://www.cnn.com/2025/04/27/politics/tariffs-trump-trade-war/index.html\n",
      "---------------------\n",
      "The article discusses the implications of President Donald Trump's decision to impose tariffs on various countries, which has been met with criticism and concern from economists, lawmakers, and business leaders. Trump believes that tariffs will help reduce trade deficits, stop illegal immigration, and control drug trafficking, but experts argue that this approach will harm American consumers and businesses.\n",
      "\n",
      "The article explains that Trump's tariff policy is a major gamble, with the potential to lead to a global trade war and economic recession. Despite warnings from experts and lawmakers, Trump has continued to push forward with his tariff plan, which has led to a significant increase in costs for American consumers and businesses.\n",
      "\n",
      "The article cites various estimates, including a study by the Yale Budget Lab, which suggests that Trump's tariffs will raise costs for the average American family by $4,700 annually. Additionally, the article notes that China has responded to Trump's tariffs by imposing its own tariffs on American goods, which has further escalated the trade tensions between the two countries.\n",
      "\n",
      "The article also quotes various experts and lawmakers, including billionaire hedge fund manager Bill Ackman, who has expressed concerns about the impact of Trump's tariffs on the global economy. Ackman writes, \"By placing massive and disproportionate tariffs on our friends and enemies alike and thereby launching a global economic war, we are in the process of destroying confidence in our country.\"\n",
      "\n",
      "Overall, the article argues that Trump's tariff policy is a high-risk strategy that has the potential to harm American consumers and businesses, and that it is unclear whether Trump can end the trade war he has started. The article concludes by noting that the financial markets have not returned to their pre-tariff levels, and that the outlook for the global economy remains uncertain.\n",
      "\n",
      "Key points:\n",
      "\n",
      "* Trump's tariff policy is a major gamble with the potential to lead to a global trade war and economic recession.\n",
      "* Experts argue that tariffs will harm American consumers and businesses, rather than achieving Trump's stated goals.\n",
      "* The Yale Budget Lab estimates that Trump's tariffs will raise costs for the average American family by $4,700 annually.\n",
      "* China has responded to Trump's tariffs by imposing its own tariffs on American goods, further escalating trade tensions.\n",
      "* Experts and lawmakers, including Bill Ackman, have expressed concerns about the impact of Trump's tariffs on the global economy.\n",
      "* The financial markets have not returned to their pre-tariff levels, and the outlook for the global economy remains uncertain.\n",
      "\n",
      "\n",
      "4: https://www.jpmorgan.com/insights/global-research/current-events/us-tariffs\n",
      "---------------------\n",
      "The article discusses the impact of US tariffs on global trade and the economy. According to J.P. Morgan Research, the tariffs imposed by the Trump administration could have a significant negative impact on the global economy, with the potential to reduce global GDP by 1%. The tariffs are expected to affect not only the US but also other countries, including China, which has already been hit with a 104% tariff.\n",
      "\n",
      "The article highlights several key points, including:\n",
      "\n",
      "1. The tariffs could lead to higher prices for consumers, with the potential to reduce real disposable personal income growth and increase inflation.\n",
      "2. The business sector is expected to be adversely affected, with a potential decline in sentiment and a reduction in spending and hiring.\n",
      "3. The global economy is at risk of a recession, with J.P. Morgan Research estimating a 40% risk of a global recession taking hold in 2025.\n",
      "4. The tariffs could have a significant impact on the US economy, with the potential to reduce GDP growth and increase inflation.\n",
      "5. The trade war between the US and China is expected to continue, with the potential for further escalation and negative consequences for the global economy.\n",
      "\n",
      "The article also notes that the Federal Reserve is expected to remain on hold until September, and that the Trump administration's trade policy is likely to continue to be a major factor in the global economy.\n",
      "\n",
      "Overall, the article suggests that the US tariffs are likely to have a significant negative impact on the global economy, and that the trade war between the US and China is likely to continue, with potentially severe consequences for the global economy.\n",
      "\n",
      "Key dates mentioned in the article include:\n",
      "\n",
      "* April 25: Mixed messages around tariffs are likely to constrain S&P 500 levels to the lower end of the range.\n",
      "* April 24: Tariffs could reduce global GDP by 1%.\n",
      "* April 21: Business sentiment dips as tariffs weigh on confidence.\n",
      "* April 9: President Trump pauses tariff hikes, and tariffs on China hit 104%.\n",
      "* March 27: Auto tariffs could impact growth and inflation.\n",
      "* March 14: J.P. Morgan Research revises down US GDP growth based on tariffs.\n",
      "* March 7: The risk of a global recession rises to 40%.\n",
      "* February 27: Consumers could face higher prices as a result of tariffs.\n",
      "* February 21: Tariffs rattle business confidence.\n",
      "* February 14: US tariffs and trade policy could have a material impact on the global economy.\n",
      "\n",
      "Overall, the article provides a comprehensive overview of the potential impact of US tariffs on the global economy, and highlights the key dates and events that have shaped the trade war between the US and China.\n",
      "\n",
      "\n",
      "5: https://www.cnbc.com/2025/05/02/heres-how-china-could-retaliate-against-us-tariffs.html\n",
      "---------------------\n",
      "The transcription is an error message indicating that access to a specific webpage on CNBC is denied due to lack of permission. It provides a reference number and a link to an error page, but does not provide any information about the content of the webpage itself.\n",
      "\n",
      "\n",
      "6: https://www.cnbc.com/2025/05/02/trump-tariffs-what-to-expect-on-prime-day-july-4-and-black-friday.html\n",
      "---------------------\n",
      "The transcription is an error message indicating that access to a specific CNBC webpage is denied due to lack of permission. The error message includes a reference number and a link to an error page.\n",
      "\n",
      "\n",
      "7: https://www.reuters.com/business/tariffs/\n",
      "---------------------\n",
      "It appears you didn't provide the transcription you'd like me to summarize. The text you provided seems to be an error message or a prompt from the Reuters website. Please provide the actual text you'd like me to summarize, and I'll be happy to help.\n",
      "\n",
      "\n",
      "8: https://www.nytimes.com/2025/05/02/business/jobs-report-april-tariffs.html\n",
      "---------------------\n",
      "There is no transcription to summarize. The text you provided appears to be a message from the New York Times website asking to enable JavaScript and disable any ad blocker. If you provide the actual transcription, I'll be happy to help summarize it for you.\n",
      "\n",
      "\n",
      "9: https://finance.yahoo.com/news/live/trump-tariffs-live-updates-china-says-door-is-open-to-trade-talks-with-the-us-191201877.html\n",
      "---------------------\n",
      "The transcription provided is \"Edge: Too Many Requests\". This is likely an error message indicating that the Edge browser (or possibly another system or service) has received too many requests and is unable to process them. It may be a temporary issue, and the user may need to wait or take other actions to resolve it.\n",
      "\n",
      "\n",
      "10: https://www.investors.com/news/trump-tariffs-trade-war-us-ports-empty/\n",
      "---------------------\n",
      "The transcription is an error message stating that access to a webpage has been denied because the system suspects the use of automation tools. The possible reasons for this issue are: \n",
      "\n",
      "1. Javascript is disabled or blocked by an extension (e.g. ad blockers)\n",
      "2. The browser does not support cookies.\n",
      "\n",
      "To resolve the issue, users are advised to enable Javascript and cookies on their browser and ensure they are not blocked.\n",
      "\n",
      "\n"
     ]
    }
   ],
   "source": [
    "metadatas = retrieval['metadatas'][0]\n",
    "urls = [data['source-url'] for data in metadatas]\n",
    "for idx, (url, summary) in enumerate(zip(urls, summaries)):\n",
    "    print(f'{idx+1}: {url}\\n---------------------\\n{summary}\\n\\n')"
   ]
  },
  {
   "cell_type": "code",
   "execution_count": null,
   "id": "da8643b8-8592-45e1-b2c5-b1e1a7778fb4",
   "metadata": {},
   "outputs": [],
   "source": []
  }
 ],
 "metadata": {
  "kernelspec": {
   "display_name": "Python 3 (ipykernel)",
   "language": "python",
   "name": "python3"
  },
  "language_info": {
   "codemirror_mode": {
    "name": "ipython",
    "version": 3
   },
   "file_extension": ".py",
   "mimetype": "text/x-python",
   "name": "python",
   "nbconvert_exporter": "python",
   "pygments_lexer": "ipython3",
   "version": "3.11.11"
  }
 },
 "nbformat": 4,
 "nbformat_minor": 5
}
