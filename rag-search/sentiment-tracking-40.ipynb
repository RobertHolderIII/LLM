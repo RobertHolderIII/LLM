{
 "cells": [
  {
   "cell_type": "code",
   "execution_count": 1,
   "id": "f232e733-dbad-4664-8d99-b5633cfa5832",
   "metadata": {},
   "outputs": [
    {
     "data": {
      "text/plain": [
       "True"
      ]
     },
     "execution_count": 1,
     "metadata": {},
     "output_type": "execute_result"
    }
   ],
   "source": [
    "import requests\n",
    "from serpapi import GoogleSearch\n",
    "from bs4 import BeautifulSoup\n",
    "from dotenv import load_dotenv\n",
    "import os\n",
    "from groq import Groq\n",
    "\n",
    "load_dotenv('../.env')"
   ]
  },
  {
   "cell_type": "markdown",
   "id": "27314739-11df-441e-a962-6a7987b53a59",
   "metadata": {},
   "source": [
    "## Set up sentiment model and prompt"
   ]
  },
  {
   "cell_type": "code",
   "execution_count": 27,
   "id": "80c9e2f7-98b8-4a5c-9531-8cfbfa7fcd91",
   "metadata": {},
   "outputs": [],
   "source": [
    "client = Groq(api_key = os.getenv('GROQ_API_KEY'))\n",
    "\n",
    "prompt = \\\n",
    "\"\"\"Does this article indicate that the probability of a trade war is higher, lower, or unchanged?\n",
    "Please respond with either 'higher', 'lower', or 'unchanged'\\n\\n{article}\"\"\"\n",
    "\n",
    "def get_trade_war_sentiment(client, transcript):\n",
    "    chat_completion = client.chat.completions.create(\n",
    "        messages=[\n",
    "            {\n",
    "                \"role\": \"system\",\n",
    "                \"content\": \"You are a helpful assistant that determines the sentiment of text.\"\n",
    "            },\n",
    "            {\n",
    "                \"role\": \"user\",\n",
    "                \"content\": prompt.format(article=transcript)\n",
    "            }\n",
    "        ],\n",
    "        \n",
    "        # try this again when my use limit resets\n",
    "        model=\"llama-3.3-70b-versatile\",\n",
    "\n",
    "        # this one does thinking which uses all the terms\n",
    "        # maybe instruct it to format the result?\n",
    "        # model=\"deepseek-r1-distill-llama-70b\", \n",
    "    )\n",
    "\n",
    "    return chat_completion.choices[0].message.content\n"
   ]
  },
  {
   "cell_type": "markdown",
   "id": "1d382416-ff27-415a-9767-604a74592095",
   "metadata": {},
   "source": [
    "## Do Google search"
   ]
  },
  {
   "cell_type": "code",
   "execution_count": 3,
   "id": "10d8f3ef-9eef-4e3d-9581-58a6052d3a49",
   "metadata": {},
   "outputs": [
    {
     "name": "stdout",
     "output_type": "stream",
     "text": [
      "01/01/2020 06/30/2020\n",
      "07/01/2020 12/31/2020\n",
      "01/01/2021 06/30/2021\n",
      "07/01/2021 12/31/2021\n",
      "01/01/2022 06/30/2022\n",
      "07/01/2022 12/31/2022\n",
      "01/01/2023 06/30/2023\n",
      "07/01/2023 12/31/2023\n",
      "01/01/2024 06/30/2024\n",
      "07/01/2024 12/31/2024\n",
      "01/01/2025 06/30/2025\n"
     ]
    }
   ],
   "source": [
    "# reference:  https://serpapi.com/search-api\n",
    "\n",
    "from datetime import datetime\n",
    "from dateutil.relativedelta import relativedelta\n",
    "\n",
    "# Start date\n",
    "start_date = datetime(2020, 1, 1)\n",
    "\n",
    "# Number of 6-month intervals to generate\n",
    "num_intervals = 11  # You can change this as needed\n",
    "\n",
    "# Generate and print the dates\n",
    "cd_mins = [start_date + relativedelta(months=6*i) for i in range(num_intervals)]\n",
    "cd_maxs = [start_date + relativedelta(months=+6*(i+1), days=-1) for i in range(num_intervals)]\n",
    "for cd_min, cd_max in zip(cd_mins, cd_maxs):\n",
    "    print(cd_min.strftime(\"%m/%d/%Y\"), cd_max.strftime(\"%m/%d/%Y\"))"
   ]
  },
  {
   "cell_type": "code",
   "execution_count": 4,
   "id": "f905f26f-0efc-40bd-a897-5d8dbcf16cd6",
   "metadata": {},
   "outputs": [
    {
     "name": "stdout",
     "output_type": "stream",
     "text": [
      "searching 01/01/2020 - 06/30/2020...\n",
      "searching 07/01/2020 - 12/31/2020...\n",
      "searching 01/01/2021 - 06/30/2021...\n",
      "searching 07/01/2021 - 12/31/2021...\n",
      "searching 01/01/2022 - 06/30/2022...\n",
      "searching 07/01/2022 - 12/31/2022...\n",
      "searching 01/01/2023 - 06/30/2023...\n",
      "searching 07/01/2023 - 12/31/2023...\n",
      "searching 01/01/2024 - 06/30/2024...\n",
      "searching 07/01/2024 - 12/31/2024...\n",
      "searching 01/01/2025 - 06/30/2025...\n"
     ]
    }
   ],
   "source": [
    "all_search_res = {}\n",
    "for cd_min, cd_max in zip(cd_mins, cd_maxs):\n",
    "    print(f'searching {cd_min.strftime(\"%m/%d/%Y\")} - {cd_max.strftime(\"%m/%d/%Y\")}...')\n",
    "    params = {\n",
    "        'q': \"US tariff news, analysis, and predictions\",\n",
    "        'engine': 'google',\n",
    "        'api_key': os.getenv('SERPAPI_API_KEY'),\n",
    "        'tbs': f'cdr:1,cd_min:{cd_min.strftime(\"%m/%d/%Y\")},cd_max:{cd_max.strftime(\"%m/%d/%Y\")}',\n",
    "        'num': 40\n",
    "    }\n",
    "        \n",
    "    search = GoogleSearch(params)\n",
    "    results = search.get_dict()\n",
    "    search_res = [result.get('link') for result in results[\"organic_results\"]]\n",
    "\n",
    "    # limiting search_res for debugging\n",
    "    search_res = search_res[0:20]\n",
    "\n",
    "    all_search_res[cd_min] = search_res"
   ]
  },
  {
   "cell_type": "code",
   "execution_count": 5,
   "id": "68b6bec7-2e30-40d3-bea2-4c818ffb3bf2",
   "metadata": {},
   "outputs": [
    {
     "data": {
      "text/plain": [
       "20"
      ]
     },
     "execution_count": 5,
     "metadata": {},
     "output_type": "execute_result"
    }
   ],
   "source": [
    "len(all_search_res[cd_min])"
   ]
  },
  {
   "cell_type": "markdown",
   "id": "14671b82-3368-4089-89e9-9bb717bb6cc5",
   "metadata": {},
   "source": [
    "## Follow each link, and pull out the text"
   ]
  },
  {
   "cell_type": "code",
   "execution_count": 6,
   "id": "c996d188-3433-4ea7-a939-67e148624f30",
   "metadata": {
    "scrolled": true
   },
   "outputs": [
    {
     "name": "stdout",
     "output_type": "stream",
     "text": [
      "processing 2020-01-01 00:00:00...\n",
      "downloading https://www.freightwaves.com/news/tag/trade-tariffs?__hstc=9610282.0787aea508c4a7020a775d49cd9c8e4b.1559606400152.1559606400153.1559606400154.1&__hssc=9610282.1.1559606400155&__hsfp=548636614...\n",
      "downloading https://foreignpolicy.com/projects/trade-war-tariffs-economy-trump-china/...\n",
      "downloading https://macenews.com/category/economy/government/white-house/trump/...\n",
      "downloading https://www.americanactionforum.org/series/eye-on-trade/...\n",
      "downloading https://www.newsnow.com/us/Business/World+Economy/International+Trade...\n",
      "downloading https://www.forbes.com/sites/stuartanderson/2020/01/21/trump-tariff-aid-to-farmers-cost-more-than-us-nuclear-forces/...\n",
      "downloading https://www.wto.org/english/res_e/reser_e/ersd202004_e.htm...\n",
      "downloading https://www.ig.com/en/news-and-trade-ideas...\n",
      "downloading https://www.reuters.com/article/business/trumps-tariffs-cost-us-companies-46-billion-to-date-data-shows-idUSKBN1Z8221/...\n",
      "downloading https://www.cnbc.com/2020/06/24/us-assessing-3point1-billion-in-tariffs-on-france-germany-spain-the-uk.html...\n",
      "downloading https://www.opi.net/magazines/archive/2020/march-2020/top-picks-march-2020/feature-us-china-trade-war-survival-of-the-fittest/...\n",
      "downloading https://www.nytimes.com/2020/01/06/business/economy/trade-war-tariffs.html...\n",
      "downloading https://www.piie.com/sites/default/files/documents/wp20-1.pdf...\n",
      "downloading https://www.thirdway.org/memo/trumps-costly-trade-wars...\n",
      "downloading https://cepr.org/voxeu/columns/stock-market-responses-triggered-us-china-trade-war...\n",
      "downloading https://www.latimes.com/business/story/2020-01-14/china-tariffs-trade-deal...\n",
      "downloading https://www.wsj.com/articles/give-trumps-tariffs-a-fair-test-11578955956...\n",
      "downloading https://www.americanactionforum.org/research/do-tariffs-impact-prices-the-case-of-aluminum/...\n",
      "downloading https://www.teletrade.org/analytics/market-analysis/market-news...\n",
      "downloading https://www.pbs.org/newshour/economy/making-sense/what-is-the-toll-of-trade-wars-on-u-s-agriculture...\n",
      "processing 2020-07-01 00:00:00...\n",
      "downloading https://www.china-briefing.com/news/the-us-china-trade-war-a-timeline/...\n",
      "downloading https://www.msn.com/en-us/money/markets/tariffs-creating-diminished-momentum-among-texas-businesses-dallas-fed-survey-finds/ar-AA1F5d3C...\n",
      "downloading https://www.audacy.com/kcbsradio/news/national/tariffs-could-spike-the-price-of-used-cars-nearly-usd3k...\n",
      "downloading https://budgetmodel.wharton.upenn.edu/issues/category/Trade...\n",
      "downloading https://www.gep.com/newsroom/tariffs-bite-north-american-and-asian-manufacturers-retrench-april-global-material...\n",
      "downloading https://www.thestreet.com/tag/tariffs?page=42...\n",
      "downloading http://www.uschina.org/articles/tariffs-on-china-weigh-on-the-american-economy-at-a-critical-time/...\n",
      "downloading https://www.wto.org/english/tratop_e/dispu_e/cases_e/ds543_e.htm...\n",
      "downloading https://www.bls.gov/opub/btn/volume-9/the-effects-of-tarifff-rates-on-the-u-s-economy-what-the-producer-price-index-tells-us.htm...\n",
      "downloading https://www.brookings.edu/articles/more-pain-than-gain-how-the-us-china-trade-war-hurt-america/...\n",
      "downloading https://www.nber.org/system/files/working_papers/w27654/revisions/w27654.rev0.pdf...\n",
      "downloading https://www.youtube.com/watch?v=0RuAxkuAi9M...\n",
      "downloading https://www.cnbc.com/2020/09/15/wto-says-us-tariffs-on-chinese-goods-violated-international-trade-rules.html...\n",
      "downloading https://www.wsj.com/economy/trade/china-trade-war-didnt-boost-u-s-manufacturing-might-11603618203...\n",
      "downloading https://crsreports.congress.gov/product/pdf/R/R45529/7...\n",
      "downloading https://foreignpolicy.com/2020/10/27/trump-trade-wars-farmers/...\n",
      "downloading https://www.nytimes.com/2020/07/10/business/us-will-impose-tariffs-on-french-goods-in-response-to-tech-tax.html...\n",
      "downloading https://www.brookings.edu/articles/did-trumps-tariffs-benefit-american-workers-and-national-security/...\n",
      "downloading https://www.sciencedirect.com/science/article/abs/pii/S1049007820300968...\n",
      "downloading https://www.heritage.org/trade/report/eliminating-tariffs-manufactured-goods-pro-growth-strategy...\n",
      "processing 2021-01-01 00:00:00...\n",
      "downloading https://carnegieendowment.org/china-financial-markets/2021/01/how-trumps-tariffs-really-affected-the-us-job-market...\n",
      "downloading https://tariffshurt.com/...\n",
      "downloading https://www.msn.com/en-sg/news/other/should-european-countries-reconsider-their-plans-for-big-tech-taxes-to-avoid-us-tariffs/ar-AA1BQ5iR...\n",
      "downloading https://www.forbes.com/sites/stuartanderson/2021/05/20/trumps-tariffs-were-much-more-damaging-than-thought/...\n",
      "downloading https://academic.oup.com/ej/article/131/636/1717/6029124...\n",
      "downloading https://www.cnbc.com/2021/05/18/us-companies-bearing-the-brunt-of-trumps-china-tariffs-says-moodys.html...\n",
      "downloading https://www.reuters.com/article/business/energy/us-china-trade-war-has-cost-up-to-245000-us-jobs-business-group-study-idUSKBN29J2O9/...\n",
      "downloading https://www.federalreserve.gov/econres/notes/feds-notes/factors-affecting-recent-us-tariffs-on-imports-from-china-20210217.html...\n",
      "downloading https://www.dallasfed.org/research/pubs/usmca/yi.aspx...\n",
      "downloading https://www.spglobal.com/market-intelligence/en/news-insights/research/did-us-section-301-tariffs-work...\n",
      "downloading https://www.cnn.com/2021/06/01/business/lumber-steel-prices-tariffs-inflation...\n",
      "downloading https://www.jec.senate.gov/public/index.cfm/republicans/2021/2/how-removing-tariffs-would-create-jobs-and-boost-the-recovery...\n",
      "downloading https://www.politico.com/news/2021/02/05/2020-trade-figures-trump-failure-deficit-466116...\n",
      "downloading https://www.cnbc.com/2021/02/18/us-china-decoupling-would-cost-america-hundreds-of-billions-of-dollars.html...\n",
      "downloading https://www.pv-tech.org/biden-administration-upholds-trumps-removal-of-bifacial-tariff-exemption/...\n",
      "downloading https://www.nytimes.com/2021/06/02/business/us-tariffs-digital-tax.html...\n",
      "downloading https://www.trade.gov/feature-article/foreign-retaliations...\n",
      "downloading https://www.nbcnews.com/business/business-news/trump-s-economic-legacy-trade-wars-tariffs-tax-breaks-n1254716...\n",
      "downloading https://www.piie.com/blogs/trade-and-investment-policy-watch/anatomy-flop-why-trumps-us-china-phase-one-trade-deal-fell...\n",
      "downloading https://www.congress.gov/crs-product/R45148...\n",
      "processing 2021-07-01 00:00:00...\n",
      "downloading https://www.msn.com/en-us/money/markets/will-the-fed-step-in-if-america-s-labor-market-cracks-from-trump-s-tariffs/ar-AA1Eovpf?ocid=finance-verthp-feeds...\n",
      "downloading https://www.marketscreener.com/quote/stock/TARGET-CORPORATION-12291/news/Trump-s-tariffs-to-push-up-costs-and-curb-exports-for-companies-49520122/?utm_source=copy&utm_medium=social&utm_campaign=share...\n",
      "downloading https://www.nber.org/system/files/working_papers/w29315/w29315.pdf...\n",
      "****could not download https://www.nber.org/system/files/working_papers/w29315/w29315.pdf\n",
      "downloading https://www.nytimes.com/2021/10/04/business/economy/us-china-trade.html...\n",
      "downloading https://www.piie.com/blogs/trade-and-investment-policy-watch/2021/biden-and-europe-remove-trumps-steel-and-aluminum...\n",
      "downloading https://anderson-review.ucla.edu/trumps-tariffs-did-in-fact-hurt-u-s-importers/...\n",
      "downloading https://www.bankofcanada.ca/2021/07/staff-working-paper-2021-36/...\n",
      "downloading https://www.scmp.com/economy/china-economy/article/3146489/us-china-trade-war-timeline-key-dates-and-events-july-2018...\n",
      "downloading https://www.cnbc.com/2021/10/06/eu-working-to-avoid-new-tariffs-on-the-us-dombrovskis.html...\n",
      "downloading https://www.economist.com/by-invitation/2021/10/05/robert-lighthizer-on-the-need-for-tariffs-to-reduce-americas-trade-deficit...\n",
      "downloading https://www.politico.com/news/2021/09/06/steelworkers-biden-tariffs-503185...\n",
      "downloading https://www.wita.org/blogs/the-truth-about-tariffs/...\n",
      "downloading https://www.nytimes.com/2021/07/27/opinion/us-china-trade-tariffs.html...\n",
      "downloading https://www.spglobal.com/market-intelligence/en/news-insights/articles/2021/7/amplified-by-tariffs-high-us-steel-prices-may-collide-with-infrastructure-plans-65498642...\n",
      "downloading https://www.thestandard.com.hk/breaking-news/article/183163/Hillary-Clinton-predicts-removal-of-China%C2%A0tariffs%2C-warns-against-Russia...\n",
      "downloading https://taxnews.ey.com/news/2021-2005-us-and-eu-agree-to-end-steel-and-aluminum-tariffs-and-cooperate-to-address-carbon-intensity...\n",
      "downloading https://www.federalreserve.gov/econres/ifdp/files/ifdp1330.pdf...\n",
      "downloading https://warsawinstitute.org/u-s-china-trade-war-origins-timeline-consequences/...\n",
      "downloading https://foreignpolicy.com/2021/07/20/free-trade-dead-managed-carbon-border-tax-climate-tariffs-trade-war-protectionism-esg-biden-trump-eu-china/...\n",
      "downloading https://prosperousamerica.org/india-flexes-tariff-water-against-tesla-usa-meekly-stands-by/...\n",
      "processing 2022-01-01 00:00:00...\n",
      "downloading https://www.msn.com/en-us/money/markets/trump-treasury-secretary-admits-americans-will-pay-some-tariff-price-hikes/ar-AA1F0APw?ocid=finance-verthp-feeds...\n",
      "downloading https://chinaglobalsouth.com/country/united-states-of-america/...\n",
      "downloading https://www.instagram.com/p/DGvE4kTNXFt/?locale=fr_FR&hl=en...\n",
      "downloading http://www.ers.usda.gov/amber-waves/2022/march/retaliatory-tariffs-reduced-u-s-states-exports-of-agricultural-commodities...\n",
      "downloading https://www.forex.com/en-sg/news-and-analysis/gold-forecast-tariff-reprieve-tempers-bull-run-but-pullback-may-be-shallow/?amp=true...\n",
      "downloading https://www.cnbc.com/2022/06/21/former-us-ambassador-says-lifting-china-tariffs-could-cut-inflation.html...\n",
      "downloading https://www.reuters.com/business/yellen-says-lowering-us-tariffs-chinese-goods-worth-considering-2022-04-22/...\n",
      "downloading https://prosperousamerica.org/tariffs-and-inflation-the-dog-that-didnt-bark/...\n",
      "downloading https://www.seafoodnews.com/Story/1296748/What-Trump-Tariffs-Mean-for-Food-and-Agriculture-Trade...\n",
      "downloading https://www.piie.com/research/piie-charts/us-china-phase-one-tracker-chinas-purchases-us-goods...\n",
      "downloading http://www.msn.com/en-us/news/world/trump-won-t-rule-out-us-recession-amid-tariff-trade-war-confusion-in-fox-news-interview/ar-AA1AyDRY?apiversion=v2&noservercache=1&domshim=1&renderwebcomponents=1&wcseo=1&batchservertelemetry=1&noservertelemetry=1...\n",
      "downloading https://www.canarymedia.com/auxin-solar-trade-case-a-series...\n",
      "downloading https://www.nytimes.com/2022/05/23/business/economy/china-trade-tariffs-biden.html...\n",
      "downloading https://www.hfm.com/cn/en/trading-tools/forex-news...\n",
      "downloading https://www.globaltrademag.com/...\n",
      "downloading https://www.npr.org/sections/money/2022/02/15/1079761270/china-promised-trump-a-better-deal-for-america-it-didnt-actually-deliver...\n",
      "downloading https://www.spglobal.com/market-intelligence/en/news-insights/articles/2022/5/a-decade-into-tariffs-us-solar-manufacturing-is-still-deep-in-asia-s-shadow-70236202...\n",
      "downloading https://www.nytimes.com/2022/06/14/business/economy/biden-china-tariffs-inflation.html...\n",
      "downloading https://www.braumillerconsulting.com/tariff-classification-u-s-federal-courts-significant-precedents/...\n",
      "downloading https://www.cato.org/policy-analysis/unfair-trade-or-unfair-protection-evolution-abuse-section-301...\n",
      "processing 2022-07-01 00:00:00...\n",
      "downloading https://finimize.com/topics/tariffs...\n",
      "downloading https://foreignpolicy.com/live/us-china-trade-war-tariffs/?tpcc=recirc_expanded_nav111523...\n",
      "downloading https://www.spglobal.com/market-intelligence/en/news-insights/research/three-tools-for-trump-tariffs-2-0...\n",
      "downloading https://www.hpenews.com/news/national/g7-finance-chiefs-gather-with-trump-tariffs-ukraine-war-in-focus/article_faf5136d-a61a-5e33-a110-4fe91e8446c4.html...\n",
      "downloading https://egc.yale.edu/research/amit-khandelwal-analyzes-short-and-long-term-effects-us-china-trade-war...\n",
      "downloading https://www.msn.com/en-us/news/politics/live-updates-trump-attacks-trade-cheaters-as-new-tariffs-take-effect/ar-AA1CAMBN?ocid=BingNewsBrowse...\n",
      "downloading https://economic-research.bnpparibas.com/Publications/Tariff-tracker/en-US...\n",
      "downloading https://www.ntu.org/publications/detail/a-realistic-alternative-to-the-coalition-for-a-prosperous-americas-trade-model...\n",
      "downloading https://finimize.com/content/us-indexes-drop-as-trade-tensions-and-interest-rate-fears-rise...\n",
      "downloading https://coinstats.app/news/429b62a46430160c5bbc704dadbb6d7ea75250f4887400d390ea8e56425de13a_Uber-stock-price-is-on-the-verge-of-a-breakout-amid-tariff-tailwinds/...\n",
      "downloading https://www.piie.com/blogs/realtime-economics/2022/four-years-trade-war-are-us-and-china-decoupling...\n",
      "downloading https://www.bloomberg.com/news/newsletters/2022-07-05/supply-chain-latest-us-eyes-lower-china-tariffs-to-combat-inflation...\n",
      "downloading https://prosperousamerica.org/how-steel-tariffs-are-helping-us-workers/...\n",
      "downloading https://theconversation.com/topics/free-trade-agreements-34911...\n",
      "downloading https://www.nytimes.com/2022/12/12/opinion/america-trade-biden.html...\n",
      "downloading https://www.reuters.com/business/importers-paid-32-bln-us-tariffs-china-tech-imports-industry-report-2022-07-20/...\n",
      "downloading https://www.just-style.com/comment/us-tariffs-hurt-central-america-not-china-but-there-is-a-solution/...\n",
      "downloading https://www.forbes.com/sites/stuartanderson/2022/11/03/trade-reports-find-tariffs-hurt-consumers-particularly-women/...\n",
      "downloading https://www.sciencedirect.com/science/article/pii/S002219962200040X...\n",
      "downloading https://www.scmp.com/economy/china-economy/article/3184204/us-china-trade-what-tariff-removal-would-mean-hong-kong-firms...\n",
      "processing 2023-01-01 00:00:00...\n",
      "downloading https://www.freightwaves.com/news/category/news/maritime/container...\n",
      "downloading https://www.moomoo.com/news/post/51110476/us-job-openings-fell-slightly-ahead-of-trump-tariffs-what...\n",
      "downloading https://prosperousamerica.org/tariffs-and-tax-credits-driving-a-new-manufacturing-boom/...\n",
      "downloading https://www.economist.com/topics/economy...\n",
      "downloading https://www.chadpbown.com/wp-content/uploads/2023/01/Bown-JPM-2021.pdf...\n",
      "downloading https://cepr.org/voxeu/columns/bystander-effect-us-china-trade-war...\n",
      "downloading https://www.imf.org/-/media/Files/News/Seminars/2023/fragmentation-conference/session-5-paper-2-reconfiguration-of-global-value-chains.ashx...\n",
      "downloading https://www.moomoo.com/news/post/52064656...\n",
      "downloading https://www.usitc.gov/publications/332/pub5405.pdf...\n",
      "downloading https://money.usnews.com/investing/articles/de-dollarization-what-happens-if-the-dollar-loses-reserve-status...\n",
      "****could not download https://money.usnews.com/investing/articles/de-dollarization-what-happens-if-the-dollar-loses-reserve-status\n",
      "downloading https://www.piie.com/blogs/realtime-economics/2023/five-years-trade-war-china-continues-its-slow-decoupling-us-exports...\n",
      "downloading https://www.spglobal.com/en/research-insights/market-insights/geopolitical-risk...\n",
      "downloading https://www.princeton.edu/~grossman/When%20tariffs%20disturb%20global%20supply%20chains.pdf...\n",
      "downloading https://www.scmp.com/news/china/article/3211746/us-importers-go-court-seeking-refund-trump-era-tariffs-chinese-goods...\n",
      "downloading https://coinstats.app/news/b5e27074b13662af8b1899745c460cea723b2c595b3880c4b77745ff6853000c_Urgent-Crypto-Alert-Trumps-Shocking-10-China-Tariffs-Trigger-Market-Volatility...\n",
      "downloading https://prosperousamerica.org/pro-growth-tariffs-modified-economic-model-shows-domestic-growth/...\n",
      "downloading https://www.dallasfed.org/research/international/wpapers/2022/0413...\n",
      "downloading https://www.americanprogress.org/article/a-new-horizon-in-u-s-trade-policy/...\n",
      "downloading https://www.sciencedirect.com/science/article/abs/pii/S0261560623000438...\n",
      "downloading https://www.eezyimport.com/us-imports-are-down-whats-up/...\n",
      "processing 2023-07-01 00:00:00...\n",
      "downloading https://taxfoundation.org/blog/donald-trump-10-percent-tariff/...\n",
      "downloading https://www.nytimes.com/2023/12/26/us/politics/trump-2025-trade-china.html...\n",
      "downloading https://www.uschina.org/articles/the-impact-of-china-pntr-repeal-and-increased-tariffs-on-the-us-economy-and-american-jobs/...\n",
      "downloading https://www.instagram.com/nbcnightlynews/reel/DHCXCWGoqb1/...\n",
      "downloading https://www.youtube.com/watch?v=ld8g_PFmIOQ...\n",
      "downloading https://www.economist.com/leaders/2023/11/02/donald-trumps-tariff-plans-would-inflict-grievous-damage-on-america-and-the-world...\n",
      "downloading https://prosperousamerica.org/model-shows-that-universal-10-tariff-would-improve-incomes-output-and-jobs/...\n",
      "downloading https://www.seatrade-maritime.com/regulations/us-china-tariff-deal-receives-mixed-reactions...\n",
      "downloading https://www.bloomberg.com/news/newsletters/2023-08-24/supply-chain-latest-trump-proposes-universal-10-tariff...\n",
      "downloading https://www.cnbc.com/2023/11/15/asia-manufacturing-slowdown-returns-to-2020-low-led-by-softer-china.html...\n",
      "downloading https://www.reuters.com/markets/us/trump-biden-policies-shifted-trade-china-cost-study-shows-2023-08-26/...\n",
      "downloading https://www.wsj.com/economy...\n",
      "downloading https://www.cfodive.com/news/trump-10-percent-tariff-shrink-gdp-tax-foundation-trade-profits-jobs/692042/...\n",
      "downloading https://openknowledge.worldbank.org/server/api/core/bitstreams/bac39b6e-90ef-442a-959a-83d5d6cc7b48/content...\n",
      "downloading https://www.jpmorgan.com/insights/outlook/economic-outlook/economic-trends...\n",
      "downloading https://foreignpolicy.com/2023/07/16/trump-trade-war-robert-lighthizer-china-economic-policy/...\n",
      "downloading https://www.spglobal.com/market-intelligence/en/news-insights/research/supply-chain-outlook-2023-q4...\n",
      "downloading https://ustr.gov/trade-agreements/free-trade-agreements/united-states-mexico-canada-agreement...\n",
      "downloading https://www.argusmedia.com/de/news-and-insights/video-insights/tariffs-and-commodities-in-asia-impact-on-the-crude-oil-market...\n",
      "downloading https://www.gzeromedia.com/viewpoint/tariff-mans-main-man-how-robert-lighthizer-changed-us-trade-policy...\n",
      "processing 2024-01-01 00:00:00...\n",
      "downloading https://www.cbsnews.com/news/trump-tariffs-proposal-10-percent-1700-cost-per-us-household/...\n",
      "downloading https://www.americanprogressaction.org/article/trumps-tariff-would-cost-the-typical-american-household-roughly-1500-each-year/...\n",
      "downloading https://www.taxnotes.com/lr/resolve/featured-analysis/its-2024-and-trumps-tariffs-are-still-a-bad-idea/7j55n...\n",
      "downloading https://www.piie.com/blogs/realtime-economics/2024/can-trump-replace-income-taxes-tariffs...\n",
      "downloading https://www.cnn.com/2024/05/21/business/trump-trade-war-tariffs-china/index.html...\n",
      "downloading https://www.morningstar.co.uk/uk/topics/263374/theme/tradewar.aspx...\n",
      "downloading https://www.foxbusiness.com/economy/economists-weigh-pros-cons-trump-plan-60-tariff-china...\n",
      "downloading https://www.youtube.com/watch?v=jCyXNEBbM1c...\n",
      "downloading https://www.cato.org/publications/separating-tariff-facts-tariff-fictions...\n",
      "downloading https://www.eiu.com/n/us-election-its-impact-on-us-trade-policy/...\n",
      "downloading https://www.piie.com/sites/default/files/2024-05/pb24-1.pdf...\n",
      "downloading https://ustr.gov/about-us/policy-offices/press-office/press-releases/2024/may/us-trade-representative-katherine-tai-take-further-action-china-tariffs-after-releasing-statutory...\n",
      "downloading https://taxfoundation.org/blog/biden-trump-tariffs/...\n",
      "downloading https://www.weforum.org/stories/2024/05/lead-story-and-other-global-trade-stories-to-read-this-month/...\n",
      "downloading https://www.progressivepolicy.org/trade-fact-of-the-week-trump-campaign-proposes-the-highest-u-s-tariff-since-1937/...\n",
      "downloading https://www.csis.org/analysis/experts-react-energy-and-trade-implications-tariffs-chinese-imports...\n",
      "downloading https://www.eiu.com/n/us-hits-china-with-carefully-devised-tariffs/...\n",
      "downloading https://www.americanprogressaction.org/article/comparing-trumps-haphazard-2500-tax-increase-to-bidens-targeted-tariffs/...\n",
      "downloading https://www.kiep.go.kr/gallery.es?mid=a20301000000&bid=0007&list_no=11287&act=view...\n",
      "downloading https://www.sciencedirect.com/science/article/abs/pii/S0261560624000020...\n",
      "processing 2024-07-01 00:00:00...\n",
      "downloading https://www.pbs.org/newshour/economy/trump-favors-huge-new-tariffs-how-do-they-work...\n",
      "downloading https://www.reuters.com/markets/asia/trump-unleash-nearly-40-tariffs-china-early-2025-hitting-growth-2024-11-20/...\n",
      "downloading https://taxfoundation.org/blog/trump-tariffs-impact-economy/...\n",
      "downloading http://democrats-budget.house.gov/news/press-releases/new-cbo-analysis-exposes-devastating-impact-trumps-tariffs...\n",
      "downloading https://news.gsu.edu/2024/10/15/are-tariffs-good-or-bad-for-the-economy/...\n",
      "downloading https://www.eiu.com/n/the-impact-of-us-tariffs-on-china-three-scenarios/...\n",
      "downloading https://am.jpmorgan.com/us/en/asset-management/adv/insights/market-insights/market-updates/on-the-minds-of-investors/how-would-the-us-dollar-respond-to-a-trade-war-2-0/...\n",
      "downloading https://chamber.ca/news/trumps-25-tariff-threat-new-analysis-reveals-severe-economic-fallout-for-both-canada-and-the-u-s/...\n",
      "downloading https://www.bu.edu/articles/2024/would-trumps-tariffs-send-prices-soaring/...\n",
      "downloading https://www.cbsnews.com/news/trump-tariffs-inflation-grocery-store-food-prices/...\n",
      "downloading https://www.cnbc.com/2024/11/06/here-what-president-elect-trumps-tariff-plan-may-mean-for-your-wallet.html...\n",
      "downloading https://www.npr.org/2024/11/13/nx-s1-5181806/how-proposed-tariffs-would-impact-american-businesses-and-consumers...\n",
      "downloading https://nrf.com/media-center/press-releases/trump-tariff-proposals-could-cost-americans-78-billion-annual-spending...\n",
      "downloading https://www.theguardian.com/us-news/2024/nov/26/trump-tariff-threat-worldwide-response...\n",
      "downloading https://budgetlab.yale.edu/research/fiscal-macroeconomic-and-price-estimates-tariffs-under-both-non-retaliation-and-retaliation...\n",
      "downloading https://www.lse.ac.uk/granthaminstitute/news/if-elected-donald-trumps-proposed-tariffs-would-damage-the-economies-of-united-states-china-and-europe-and-set-back-climate-action/...\n",
      "downloading https://abcnews.go.com/Business/trumps-proposed-tariffs-raise-prices-products-experts/story?id=115893557...\n",
      "downloading https://www.nytimes.com/2024/11/08/us/politics/trump-tariffs-china.html...\n",
      "downloading https://www.piie.com/research/piie-charts/2024/trumps-bigger-tariff-proposals-would-cost-typical-american-household-over...\n",
      "downloading https://news.umich.edu/global-ripple-effects-expert-insights-on-trumps-tariff-plans/...\n",
      "processing 2025-01-01 00:00:00...\n",
      "downloading https://finance.yahoo.com/news/live/trump-tariffs-live-updates-china-iphone-exports-to-us-plunge-to-14-year-low-amid-tariff-tensions-191201819.html...\n",
      "downloading https://www.jpmorgan.com/insights/global-research/current-events/us-tariffs...\n",
      "downloading https://www.tradecomplianceresourcehub.com/2025/05/16/trump-2-0-tariff-tracker/...\n",
      "downloading https://www.pbs.org/newshour/nation/economists-say-trumps-tariffs-are-unpredictable-and-still-working-their-way-through-the-system...\n",
      "downloading https://finance.yahoo.com/news/live/trump-tariffs-live-updates-us-and-china-trade-truce-grows-fragile-amid-war-of-words-over-chips-191201476.html...\n",
      "downloading https://budgetlab.yale.edu/research/fiscal-and-economic-effects-revised-april-9-tariffs...\n",
      "downloading https://www.bbc.com/news/articles/cn93e12rypgo...\n",
      "downloading https://www.pbs.org/newshour/economy/analysis-trumps-truce-with-china-on-tariffs-comes-at-a-cost-to-u-s-credibility...\n",
      "downloading https://www.cnbc.com/2025/05/20/china-us-exporters-undervalue-cargo-dodge-us-tariffs-.html...\n",
      "downloading https://taxfoundation.org/research/all/federal/trump-tariffs-trade-war/...\n",
      "downloading https://www.youtube.com/watch?v=ul_HE6axWc0&pp=0gcJCdgAo7VqN5tD...\n",
      "downloading https://budgetlab.yale.edu/research/where-we-stand-fiscal-economic-and-distributional-effects-all-us-tariffs-enacted-2025-through-april...\n",
      "downloading https://www.theguardian.com/us-news/2025/may/08/small-farms-trump-tariffs...\n",
      "downloading https://budgetmodel.wharton.upenn.edu/issues/2025/4/10/economic-effects-of-president-trumps-tariffs...\n",
      "downloading https://www.nytimes.com/article/trump-tariffs-canada-mexico-china.html...\n",
      "downloading https://www.youtube.com/watch?v=1pEKOnuwdqw...\n",
      "downloading https://www.reuters.com/world/trump-stokes-trade-war-world-reels-tariff-shock-2025-04-03/...\n",
      "downloading https://www.youtube.com/watch?v=G5KSXZtFTDU...\n",
      "downloading https://www.goldmansachs.com/insights/articles/how-tariffs-are-forecast-to-affect-us-stocks...\n",
      "downloading https://www.ucl.ac.uk/news/2025/feb/analysis-will-trumps-tariffs-boost-us-economy-dont-count-it...\n",
      "CPU times: user 6.79 s, sys: 1.3 s, total: 8.09 s\n",
      "Wall time: 2min 19s\n"
     ]
    }
   ],
   "source": [
    "%%time\n",
    "## TODO handle video - either skip it or extract the text from the audio\n",
    "## TODO handle pages that are taking too long to respond\n",
    "\n",
    "def get_text(url):\n",
    "    try:\n",
    "        print(f'downloading {url}...')\n",
    "        response = requests.get(url)\n",
    "        html = response.text\n",
    "        text = BeautifulSoup(html, features=\"html.parser\").get_text().strip()\n",
    "    except:\n",
    "        print(f'****could not download {url}')\n",
    "        text = 'could not download'\n",
    "        \n",
    "    return text\n",
    "\n",
    "all_documents = {}\n",
    "for k, urls in all_search_res.items():\n",
    "    print(f'processing {k}...')\n",
    "    all_documents[k] = [get_text(url) for url in urls]\n"
   ]
  },
  {
   "cell_type": "markdown",
   "id": "95be48a9-ee9a-42a8-8401-f303db086476",
   "metadata": {},
   "source": [
    "## Determine sentiment of document"
   ]
  },
  {
   "cell_type": "code",
   "execution_count": 33,
   "id": "da8643b8-8592-45e1-b2c5-b1e1a7778fb4",
   "metadata": {},
   "outputs": [
    {
     "name": "stdout",
     "output_type": "stream",
     "text": [
      "9/11: generating sentiment for 01/01/2024...\n",
      "10/11: generating sentiment for 07/01/2024...\n",
      "11/11: generating sentiment for 01/01/2025...\n",
      "CPU times: user 406 ms, sys: 75.9 ms, total: 482 ms\n",
      "Wall time: 1min 53s\n"
     ]
    }
   ],
   "source": [
    "%%time\n",
    "\n",
    "doc_len_limit = 8000\n",
    "\n",
    "all_sentiment = {}\n",
    "for i, (k, docs) in enumerate(all_documents.items()):\n",
    "    \n",
    "    ## ran out of tokens after 8. putting this here to finish\n",
    "    # if (i+1) < 9:\n",
    "    #    continue\n",
    "    \n",
    "    \n",
    "    print(f'{i+1}/{len(all_documents)}: generating sentiment for {k.strftime(\"%m/%d/%Y\")}...')\n",
    "    all_sentiment[k] = [get_trade_war_sentiment(client, doc[:doc_len_limit]) for doc in docs]"
   ]
  },
  {
   "cell_type": "code",
   "execution_count": 34,
   "id": "4ca29b12-bca3-474b-968a-e953fb4e00c6",
   "metadata": {},
   "outputs": [
    {
     "data": {
      "text/plain": [
       "3"
      ]
     },
     "execution_count": 34,
     "metadata": {},
     "output_type": "execute_result"
    }
   ],
   "source": [
    "len(all_sentiment)"
   ]
  },
  {
   "cell_type": "code",
   "execution_count": 29,
   "id": "9cd5acb4-be83-4f8f-a223-f2f0658f5221",
   "metadata": {},
   "outputs": [
    {
     "data": {
      "text/plain": [
       "['unchanged',\n",
       " 'unchanged',\n",
       " 'unchanged',\n",
       " 'Lower',\n",
       " 'Higher',\n",
       " \"The text provided does not mention a trade war. Therefore, I must conclude that the probability of a trade war is 'unchanged'.\",\n",
       " 'Lower',\n",
       " 'Lower',\n",
       " 'Unable to analyze the article as the content is not provided. To determine if the probability of a trade war is higher, lower, or unchanged, the actual text of the article is needed.',\n",
       " 'unchanged',\n",
       " 'unchanged',\n",
       " \"I'm happy to help, but I don't see an article provided. The text only includes a link to the New York Times website. Could you please copy and paste the text of the article, and I'll do my best to determine the sentiment regarding the probability of a trade war?\",\n",
       " 'Higher',\n",
       " 'Unable to analyze the article as the text provided does not contain any information. Please provide the actual article text to determine the sentiment regarding the probability of a trade war.',\n",
       " 'Lower',\n",
       " 'unchanged',\n",
       " 'unchanged',\n",
       " 'higher',\n",
       " 'unchanged',\n",
       " 'Lower']"
      ]
     },
     "execution_count": 29,
     "metadata": {},
     "output_type": "execute_result"
    }
   ],
   "source": [
    "all_sentiment[cd_mins[0]]"
   ]
  },
  {
   "cell_type": "markdown",
   "id": "875c4102-17ac-4f35-b21a-7fc0e7cecedd",
   "metadata": {},
   "source": [
    "## Visualize data"
   ]
  },
  {
   "cell_type": "code",
   "execution_count": 21,
   "id": "a5776f91-3806-4c07-a7c6-904a7457075c",
   "metadata": {},
   "outputs": [],
   "source": [
    "import matplotlib.pyplot as plt\n",
    "import random\n",
    "#all_sentiment_test = {cd_min: [random.choice(['higher', 'lower', 'unchanged']) for _ in range(10)] for cd_min in cd_mins}\n",
    "#all_sentiment_test"
   ]
  },
  {
   "cell_type": "code",
   "execution_count": 22,
   "id": "b75bc63a-379b-4a5c-a555-79f429d06594",
   "metadata": {},
   "outputs": [
    {
     "data": {
      "text/plain": [
       "0.3"
      ]
     },
     "execution_count": 22,
     "metadata": {},
     "output_type": "execute_result"
    }
   ],
   "source": [
    "def count_sent(ls, val):\n",
    "    #print(f'{ls=}, {val=}')\n",
    "    return sum(val in item.lower() for item in ls) / len(ls)\n",
    "\n",
    "count_sent(['lower',\n",
    "  'unchanged',\n",
    "  'lower',\n",
    "  'higher',\n",
    "  'unchanged',\n",
    "  'higher',\n",
    "  'lower',\n",
    "  'higher',\n",
    "  'lower',\n",
    "  'lower'],'higher')"
   ]
  },
  {
   "cell_type": "code",
   "execution_count": 43,
   "id": "c2265045-e51c-4475-83d9-fa0c081bdc34",
   "metadata": {},
   "outputs": [
    {
     "data": {
      "text/plain": [
       "{datetime.datetime(2020, 1, 1, 0, 0): [0.2, 0.5, 0.3],\n",
       " datetime.datetime(2020, 7, 1, 0, 0): [0.3, 0.4, 0.3],\n",
       " datetime.datetime(2021, 1, 1, 0, 0): [0.1, 0.45, 0.3],\n",
       " datetime.datetime(2021, 7, 1, 0, 0): [0.25, 0.5, 0.35],\n",
       " datetime.datetime(2022, 1, 1, 0, 0): [0.25, 0.7, 0.25],\n",
       " datetime.datetime(2022, 7, 1, 0, 0): [0.3, 0.5, 0.3],\n",
       " datetime.datetime(2023, 1, 1, 0, 0): [0.15, 0.75, 0.3],\n",
       " datetime.datetime(2023, 7, 1, 0, 0): [0.2, 0.7, 0.15],\n",
       " datetime.datetime(2024, 1, 1, 0, 0): [0.6, 0.35, 0.05],\n",
       " datetime.datetime(2024, 7, 1, 0, 0): [0.6, 0.3, 0.05],\n",
       " datetime.datetime(2025, 1, 1, 0, 0): [0.5, 0.3, 0.3]}"
      ]
     },
     "execution_count": 43,
     "metadata": {},
     "output_type": "execute_result"
    }
   ],
   "source": [
    "\n",
    "\n",
    "\n",
    "nums = {}\n",
    "\n",
    "#for date, sentiments in all_sentiment.items():\n",
    "## hacking in the loaded sentiments\n",
    "for date, sentiments in v_final.items():\n",
    "    nums[date] = [count_sent(sentiments,val) for val in ['higher', 'unchanged', 'lower']]\n",
    "nums"
   ]
  },
  {
   "cell_type": "code",
   "execution_count": 46,
   "id": "9812bc3f-d639-4a5b-ad7a-deff76cdcb00",
   "metadata": {
    "scrolled": true
   },
   "outputs": [
    {
     "data": {
      "image/png": "[encoded data removed]",
      "text/plain": [
       "<Figure size 1000x500 with 1 Axes>"
      ]
     },
     "metadata": {},
     "output_type": "display_data"
    }
   ],
   "source": [
    "higher = {k:v[0] for k,v in nums.items()}\n",
    "unchanged = {k:v[1] for k,v in nums.items()}\n",
    "lower = {k:v[2] for k,v in nums.items()}\n",
    "dates = higher.keys()\n",
    "\n",
    "# Create the plot\n",
    "plt.figure(figsize=(10, 5))\n",
    "plt.plot(dates, higher.values(), marker='o', linestyle='-', color='red', label='higher')\n",
    "plt.plot(dates, unchanged.values(), marker='o', linestyle='-', color='blue', label='unchanged')\n",
    "plt.plot(dates, lower.values(), marker='o', linestyle='-', color='green', label='lower')\n",
    "\n",
    "# Format the x-axis to show dates nicely\n",
    "#plt.gca().xaxis.set_major_formatter(mdates.DateFormatter('%Y-%m-%d'))\n",
    "#plt.gca().xaxis.set_major_locator(mdates.DayLocator())\n",
    "\n",
    "plt.xticks(rotation=45)\n",
    "plt.xlabel('Date')\n",
    "plt.ylabel('Fraction of articles')\n",
    "plt.title('Sentiment of articles re possibility of trade war, top 20 articles per 6-month period')\n",
    "plt.legend()\n",
    "plt.tight_layout()\n",
    "plt.grid(True)\n",
    "plt.show()\n"
   ]
  },
  {
   "cell_type": "code",
   "execution_count": 35,
   "id": "7eb00a24-128a-4be7-bf4e-2933de35fd64",
   "metadata": {},
   "outputs": [],
   "source": [
    "## Pickle some stuff for later work\n",
    "import pickle\n",
    "\n",
    "# Pickle the dictionary to a file\n",
    "with open('all_sentiment_40_versatile-9to11of11.pkl', 'wb') as f:\n",
    "    pickle.dump(all_sentiment, f)\n",
    "\n"
   ]
  },
  {
   "cell_type": "code",
   "execution_count": null,
   "id": "8f23c15c-fea5-4693-a44f-4458308a5356",
   "metadata": {},
   "outputs": [],
   "source": []
  },
  {
   "cell_type": "code",
   "execution_count": 26,
   "id": "35b17edf-a31a-4a08-91b0-4c0c9e10564a",
   "metadata": {},
   "outputs": [],
   "source": [
    "with open('all_search_res_40.pkl', 'wb') as f:\n",
    "    pickle.dump(all_search_res, f)\n",
    "with open('all_documents_40.pkl', 'wb') as f:\n",
    "    pickle.dump(all_documents, f)\n",
    "all_documents"
   ]
  },
  {
   "cell_type": "code",
   "execution_count": 39,
   "id": "8bf2035a-d23f-4940-9af7-a31b12ade16d",
   "metadata": {},
   "outputs": [],
   "source": [
    "## Load pickles into single sentiment var\n",
    "with open('sentiment_versatile_40/all_sentiment_40_versatile-9to11of11.pkl', 'rb') as f:\n",
    "    v = pickle.load(f)\n",
    "with open('sentiment_versatile_40/all_sentiment_40_versatile-8of11.pkl', 'rb') as f:\n",
    "    v_final = pickle.load(f)\n",
    "v_final = v_final | v\n",
    "len(v_final)"
   ]
  },
  {
   "cell_type": "code",
   "execution_count": 45,
   "id": "3952c553-9eac-4652-a691-bc45840060a6",
   "metadata": {},
   "outputs": [
    {
     "data": {
      "text/plain": [
       "[20, 20, 20, 20, 20, 20, 20, 20, 20, 20, 20]"
      ]
     },
     "execution_count": 45,
     "metadata": {},
     "output_type": "execute_result"
    }
   ],
   "source": [
    "[len(d) for d in v_final.values()]"
   ]
  }
 ],
 "metadata": {
  "kernelspec": {
   "display_name": "Python 3 (ipykernel)",
   "language": "python",
   "name": "python3"
  },
  "language_info": {
   "codemirror_mode": {
    "name": "ipython",
    "version": 3
   },
   "file_extension": ".py",
   "mimetype": "text/x-python",
   "name": "python",
   "nbconvert_exporter": "python",
   "pygments_lexer": "ipython3",
   "version": "3.11.11"
  }
 },
 "nbformat": 4,
 "nbformat_minor": 5
}
